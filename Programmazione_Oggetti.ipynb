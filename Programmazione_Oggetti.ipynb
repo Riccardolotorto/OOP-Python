{
  "nbformat": 4,
  "nbformat_minor": 0,
  "metadata": {
    "colab": {
      "provenance": [],
      "collapsed_sections": [
        "DZojeSocroMa"
      ],
      "authorship_tag": "ABX9TyNaKdma6ZF8n46qLh7G0dsz",
      "include_colab_link": true
    },
    "kernelspec": {
      "name": "python3",
      "display_name": "Python 3"
    },
    "language_info": {
      "name": "python"
    }
  },
  "cells": [
    {
      "cell_type": "markdown",
      "metadata": {
        "id": "view-in-github",
        "colab_type": "text"
      },
      "source": [
        "<a href=\"https://colab.research.google.com/github/Riccardolotorto/OOP-Python/blob/main/Programmazione_Oggetti.ipynb\" target=\"_parent\"><img src=\"https://colab.research.google.com/assets/colab-badge.svg\" alt=\"Open In Colab\"/></a>"
      ]
    },
    {
      "cell_type": "markdown",
      "source": [
        "**Classe**: un modello o un prototipo che permette di creare oggetti, i quali contengono diversi attributi.\n",
        "**Oggetto**: è un’istanza di una classe (una copia concreta di quella classe).\n",
        "**Attributi**: caratteristiche (variabili) della classe. Possono essere pubblici (possono essere visti da chiunque acceda alla classe) o privati (non possono essere accessibili dall’esterno, cioè sono solo per il programmatore).\n",
        "**Metodo**: è una funzione all’interno della classe dentro la quale viene definito il comportamento degli oggetti di quella classe.\n",
        "**Ereditarietà**: è la capacità di una classe di ereditare attributi e metodi da un’altra classe."
      ],
      "metadata": {
        "id": "GsQOQmRqmLKL"
      }
    },
    {
      "cell_type": "code",
      "execution_count": null,
      "metadata": {
        "id": "8IsvEZRamGkW"
      },
      "outputs": [],
      "source": [
        "#esempio di prototipo di classe\n",
        "class Persona:\n",
        "  def __init__(self, nome, cognome, anno_nascita):    #init: istanza, il costruttore (il metodo per creare l'oggetto); self: serve per identificare gli attributi (variabili) di questo oggetto\n",
        "    self.nome = nome  #attributo nome = parametro nome\n",
        "    self.cognome = cognome  #attributo cognome = parametro cognome\n",
        "    self.anno_nascita = anno_nascita #attributo anno_nascita = parametro anno_nascita\n",
        "\n",
        "  def saluta(self):\n",
        "    print(f\"Ciao, sono {self.nome} {self.cognome}\")\n",
        "\n",
        "  def calcola_eta(self, anno_corrente):\n",
        "    eta = anno_corrente - self.anno_nascita\n",
        "    return eta"
      ]
    },
    {
      "cell_type": "code",
      "source": [
        "#esempio di oggetto\n",
        "persona1 = Persona(\"Mario\", \"Rossi\", 2006)"
      ],
      "metadata": {
        "id": "dmjBN-E4n_00"
      },
      "execution_count": null,
      "outputs": []
    },
    {
      "cell_type": "code",
      "source": [
        "persona1.saluta()"
      ],
      "metadata": {
        "colab": {
          "base_uri": "https://localhost:8080/"
        },
        "id": "iXUNFP9Yo_WF",
        "outputId": "ed13a8a8-6da3-4061-8406-d9afa22f6f57"
      },
      "execution_count": null,
      "outputs": [
        {
          "output_type": "stream",
          "name": "stdout",
          "text": [
            "Ciao, sono Mario Rossi\n"
          ]
        }
      ]
    },
    {
      "cell_type": "code",
      "source": [
        "print(persona1.nome)"
      ],
      "metadata": {
        "colab": {
          "base_uri": "https://localhost:8080/"
        },
        "id": "UTZ2VVk6p1OE",
        "outputId": "6ed1eb5e-6439-4cc0-cc70-76f48df58071"
      },
      "execution_count": null,
      "outputs": [
        {
          "output_type": "stream",
          "name": "stdout",
          "text": [
            "Mario\n"
          ]
        }
      ]
    },
    {
      "cell_type": "code",
      "source": [
        "persona1.calcola_eta(2024)"
      ],
      "metadata": {
        "colab": {
          "base_uri": "https://localhost:8080/"
        },
        "id": "FkZoydK6rBeY",
        "outputId": "bd576feb-4c4e-4221-d833-5a2434372551"
      },
      "execution_count": null,
      "outputs": [
        {
          "output_type": "execute_result",
          "data": {
            "text/plain": [
              "18"
            ]
          },
          "metadata": {},
          "execution_count": 20
        }
      ]
    },
    {
      "cell_type": "markdown",
      "source": [
        "#esercizi:"
      ],
      "metadata": {
        "id": "DZojeSocroMa"
      }
    },
    {
      "cell_type": "markdown",
      "source": [
        "1. creare una classe persona con attributi nome, peso e altezza e metodi IMC e valutazione (risponde con -1, 0 o 1 a seconda che la persona sia sottopeso, normopeso o sovrappeso). Creare poi un oggetto di questa classe per provarla."
      ],
      "metadata": {
        "id": "iiiz9_BHrp1Z"
      }
    },
    {
      "cell_type": "code",
      "source": [
        "class Umano:\n",
        "  def __init__(self, nome, cognome, peso, altezza):\n",
        "    self.nome = nome\n",
        "    self.cognone = cognome\n",
        "    self.__peso = peso   #rendo l'attributo peso privato\n",
        "    self.__altezza = altezza   #attributo privato\n",
        "\n",
        "  def getAltezza(self):\n",
        "    return self.__altezza\n",
        "\n",
        "  def setAltezza(self, altezza):\n",
        "    self.__altezza = altezza\n",
        "\n",
        "  def IMC(self):\n",
        "    imc = self.__peso / self.__altezza**2\n",
        "    return imc\n",
        "\n",
        "  def valutazione(self):\n",
        "    risultato = self.IMC()\n",
        "    if risultato < 18.5:\n",
        "      voto = -1\n",
        "    elif 18.5 <= risultato <= 24.99:\n",
        "      voto = 0\n",
        "    elif risultato > 25:\n",
        "      voto = 1\n",
        "    return voto"
      ],
      "metadata": {
        "id": "5oB04ZZvrsS0"
      },
      "execution_count": 56,
      "outputs": []
    },
    {
      "cell_type": "code",
      "source": [
        "umano1 = Umano(\"Riccardo\", \"Lotorto\", 54, 1.72)"
      ],
      "metadata": {
        "id": "ilaWrSgguc3c"
      },
      "execution_count": 57,
      "outputs": []
    },
    {
      "cell_type": "code",
      "source": [
        "print(umano1)"
      ],
      "metadata": {
        "colab": {
          "base_uri": "https://localhost:8080/"
        },
        "id": "KJrk8Bww2ttu",
        "outputId": "d19ed8b4-be80-4acd-da00-816ba189d3d4"
      },
      "execution_count": 58,
      "outputs": [
        {
          "output_type": "stream",
          "name": "stdout",
          "text": [
            "<__main__.Umano object at 0x7d3139419c60>\n"
          ]
        }
      ]
    },
    {
      "cell_type": "code",
      "source": [
        "t = umano1.IMC()\n",
        "print(t)"
      ],
      "metadata": {
        "colab": {
          "base_uri": "https://localhost:8080/"
        },
        "id": "CTdXpUFn3u42",
        "outputId": "0e118e12-ea1b-4a0c-c83d-c1f20a6e48a3"
      },
      "execution_count": 59,
      "outputs": [
        {
          "output_type": "stream",
          "name": "stdout",
          "text": [
            "18.25310978907518\n"
          ]
        }
      ]
    },
    {
      "cell_type": "code",
      "source": [
        "print(umano1.valutazione())"
      ],
      "metadata": {
        "colab": {
          "base_uri": "https://localhost:8080/"
        },
        "id": "FMSgU_0Ruql0",
        "outputId": "55c990e4-0c08-45b1-d620-83e6b87d0989"
      },
      "execution_count": 60,
      "outputs": [
        {
          "output_type": "stream",
          "name": "stdout",
          "text": [
            "-1\n"
          ]
        }
      ]
    },
    {
      "cell_type": "code",
      "source": [
        "print(umano1.__altezza)  #stampo l'attributo altezza dell'oggetto umano1 (in questo caso privato)"
      ],
      "metadata": {
        "id": "zEUOR7N95m2m"
      },
      "execution_count": null,
      "outputs": []
    },
    {
      "cell_type": "code",
      "source": [
        "print(umano1.__peso)   #non posso utilizzare un attributo privato"
      ],
      "metadata": {
        "id": "TMF-a14Q6lcu"
      },
      "execution_count": null,
      "outputs": []
    },
    {
      "cell_type": "code",
      "source": [
        "print(umano1.getAltezza())"
      ],
      "metadata": {
        "colab": {
          "base_uri": "https://localhost:8080/"
        },
        "id": "9xm42aMs70fF",
        "outputId": "c62ee19d-7c50-4432-faad-c1b556b7be8c"
      },
      "execution_count": 61,
      "outputs": [
        {
          "output_type": "stream",
          "name": "stdout",
          "text": [
            "1.72\n"
          ]
        }
      ]
    },
    {
      "cell_type": "code",
      "source": [
        "altUtente = float(input(\"inserisci nuova altezza: \"))\n",
        "umano1.setAltezza(altUtente)"
      ],
      "metadata": {
        "colab": {
          "base_uri": "https://localhost:8080/"
        },
        "id": "pha2fvGhAsYO",
        "outputId": "9a023977-3593-4bc6-ed47-ec66cb0271e3"
      },
      "execution_count": 62,
      "outputs": [
        {
          "name": "stdout",
          "output_type": "stream",
          "text": [
            "inserisci nuova altezza: 1.90\n"
          ]
        }
      ]
    },
    {
      "cell_type": "code",
      "source": [
        "print(umano1.getAltezza())"
      ],
      "metadata": {
        "colab": {
          "base_uri": "https://localhost:8080/"
        },
        "id": "eqo6b1FHA4QO",
        "outputId": "2c398be5-1365-46a9-debe-a8664b28217f"
      },
      "execution_count": 63,
      "outputs": [
        {
          "output_type": "stream",
          "name": "stdout",
          "text": [
            "1.9\n"
          ]
        }
      ]
    },
    {
      "cell_type": "markdown",
      "source": [
        "i metodi **set** e **get** permettono di definire degli oggetti di classi (set per inserire e get per ottenere)"
      ],
      "metadata": {
        "id": "xdOF8KF27QbX"
      }
    },
    {
      "cell_type": "markdown",
      "source": [
        "2. creare classe studente con attributi nome, cognome, classe e media finale e metodo credito, che sulla base della classe e della media restituisca il numero di crediti"
      ],
      "metadata": {
        "id": "vI3O67-lslcp"
      }
    },
    {
      "cell_type": "code",
      "source": [
        "class Studente:\n",
        "  def __init__(self, nome, cognome, classe, media_finale):\n",
        "    self.nome = nome\n",
        "    self.cognome = cognome\n",
        "    self.classe = classe\n",
        "    self.media_finale = media_finale\n",
        "\n",
        "  def credito(self):\n",
        "    if self.classe == 1 or self.classe == 2:\n",
        "      totale = 0\n",
        "    elif self.classe == 3:\n",
        "      if self.media_finale == 6:\n",
        "        totale = '7-8'\n",
        "      elif self.media_finale > 6 and self.media_finale <= 7:\n",
        "        totale = '8-9'\n",
        "      elif self.media_finale > 7 and self.media_finale <= 8:\n",
        "        totale = '9-10'\n",
        "      elif self.media_finale > 8 and self.media_finale <= 9:\n",
        "        totale = '10-11'\n",
        "      elif self.media_finale > 9 and self.media_finale <= 10:\n",
        "        totale = '11-12'\n",
        "    elif self.classe == 4:\n",
        "      if self.media_finale == 6:\n",
        "        totale = '8-9'\n",
        "      elif self.media_finale > 6 and self.media_finale <= 7:\n",
        "        totale = '9-10'\n",
        "      elif self.media_finale > 7 and self.media_finale <= 8:\n",
        "        totale = '10-11'\n",
        "      elif self.media_finale > 8 and self.media_finale <= 9:\n",
        "        totale = '11-12'\n",
        "      elif self.media_finale > 9 and self.media_finale <= 10:\n",
        "        totale = '12-13'\n",
        "    elif self.classe == 5:\n",
        "      if self.media_finale < 6:\n",
        "        totale = '7-8'\n",
        "      elif self.media_finale == 6:\n",
        "        totale = '9-10'\n",
        "      elif self.media_finale > 6 and self.media_finale <= 7:\n",
        "        totale = '10-11'\n",
        "      elif self.media_finale > 7 and self.media_finale <= 8:\n",
        "        totale = '11-12'\n",
        "      elif self.media_finale > 8 and self.media_finale <= 9:\n",
        "        totale = '13-14'\n",
        "      elif self.media_finale > 9 and self.media_finale <= 10:\n",
        "        totale = '14-15'\n",
        "    return totale"
      ],
      "metadata": {
        "id": "8xDrhYd9u42r"
      },
      "execution_count": null,
      "outputs": []
    },
    {
      "cell_type": "code",
      "source": [
        "studente1 = Studente(\"Riccardo\", \"Lotorto\", 4, 8.5)"
      ],
      "metadata": {
        "id": "JCQCm-c5x5Tq"
      },
      "execution_count": null,
      "outputs": []
    },
    {
      "cell_type": "code",
      "source": [
        "print(studente1.credito())"
      ],
      "metadata": {
        "colab": {
          "base_uri": "https://localhost:8080/"
        },
        "id": "DAviFVGIyBiW",
        "outputId": "826cf04a-6d83-4e4f-f03b-444759a55b3d"
      },
      "execution_count": null,
      "outputs": [
        {
          "output_type": "stream",
          "name": "stdout",
          "text": [
            "11-12\n"
          ]
        }
      ]
    }
  ]
}