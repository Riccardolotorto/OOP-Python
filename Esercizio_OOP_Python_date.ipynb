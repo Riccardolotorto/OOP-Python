{
  "nbformat": 4,
  "nbformat_minor": 0,
  "metadata": {
    "colab": {
      "provenance": [],
      "authorship_tag": "ABX9TyPDKl5OjoX0/0CobFFI1jQp",
      "include_colab_link": true
    },
    "kernelspec": {
      "name": "python3",
      "display_name": "Python 3"
    },
    "language_info": {
      "name": "python"
    }
  },
  "cells": [
    {
      "cell_type": "markdown",
      "metadata": {
        "id": "view-in-github",
        "colab_type": "text"
      },
      "source": [
        "<a href=\"https://colab.research.google.com/github/Riccardolotorto/OOP-Python/blob/main/Esercizio_OOP_Python_date.ipynb\" target=\"_parent\"><img src=\"https://colab.research.google.com/assets/colab-badge.svg\" alt=\"Open In Colab\"/></a>"
      ]
    },
    {
      "cell_type": "markdown",
      "source": [
        "\n",
        "1. creare una data sottoforma di giorno, mese e anno. Fare in modo che gli attributi siano privat ed implementare quindi i metodi per assegnare un valore ai vari parametri e recuperare il valore di un parametro"
      ],
      "metadata": {
        "id": "qjXxtjpGjqCt"
      }
    },
    {
      "cell_type": "code",
      "execution_count": 71,
      "metadata": {
        "id": "5KQNKYSuja9H"
      },
      "outputs": [],
      "source": [
        "class Data:\n",
        "  def __init__(self, giorno, mese, anno):\n",
        "    self.__giorno = giorno\n",
        "    self.__mese = mese\n",
        "    self.__anno = anno\n",
        "\n",
        "  def setGiorno(self, giorno):\n",
        "    self.__giorno = giorno\n",
        "\n",
        "  def setMese(self, mese):\n",
        "    self.__mese = mese\n",
        "\n",
        "  def setAnno(self, anno):\n",
        "    self.__anno = anno\n",
        "\n",
        "  def getGiorno(self):\n",
        "    return self.__giorno\n",
        "\n",
        "  def getMese(self):\n",
        "    return self.__mese\n",
        "\n",
        "  def getAnno(self):\n",
        "    return self.__anno\n",
        "\n",
        "#2. determinare se una data è precedente ad un'altra\n",
        "  def precedenzaData(self, altraData):\n",
        "    if self.__anno < altraData.__anno:\n",
        "      return True\n",
        "    elif self.__anno == altraData.__anno:\n",
        "      if self.__mese < altraData.__mese:\n",
        "        return True\n",
        "      elif self.__mese == altraData.__mese:\n",
        "        if self.__giorno < altraData.__giorno:\n",
        "          return True\n",
        "        else:\n",
        "          return False\n",
        "    else:\n",
        "      return False\n",
        "\n",
        "#3. determinare se una data è successiva ad un'altra\n",
        "  def successivaData(self, altraData):\n",
        "    if self.__anno > altraData.__anno:\n",
        "      return True\n",
        "    elif self.__anno == altraData.__anno:\n",
        "      if self.__mese > altraData.__mese:\n",
        "        return True\n",
        "      elif self.__mese == altraData.__mese:\n",
        "        if self.__giorno > altraData.__giorno:\n",
        "          return True\n",
        "        else:\n",
        "          return False\n",
        "    else:\n",
        "      return False\n",
        "\n",
        "#4. determinare se due date sono uguali\n",
        "  def uguaglianzaData(self, altraData):\n",
        "    if (self.__anno and self.__mese and self.__giorno) == (altraData.__anno and altraData.__mese and altraData.__giorno):\n",
        "      return True\n",
        "    else:\n",
        "      return False\n",
        "\n",
        "#5. determinare se un anno è bisestile\n",
        "  def bisestile(self):\n",
        "    if (self.__anno % 4 == 0 and self.__anno % 100 != 0) or (self.__anno & 400 == 0):\n",
        "      return True\n",
        "    else:\n",
        "      return False\n",
        "\n",
        "#6. calcolare il numero di giorni tra una data e un'altra\n",
        "  def differenzaGiorni(self, altraData):\n",
        "    from datetime import date\n",
        "    a = date(self.__anno, self.__mese, self.__giorno)\n",
        "    b = date(altraData.__anno, altraData.__mese, altraData.__giorno)\n",
        "    return (b - a).days\n",
        "\n",
        "#7. aggiungere un certo numero di giorni ad una data\n",
        "  def aggiuntaGiorni(self, numeroGiorni):\n",
        "    from datetime import date, timedelta\n",
        "    a = date(self.__anno, self.__mese, self.__giorno)\n",
        "    return a + timedelta(days = numeroGiorni)\n",
        "\n",
        "#8. togliere un certo numero di giorni ad una data\n",
        "  def rimozioneGiorni(self, numeroGiorni):\n",
        "    from datetime import date, timedelta\n",
        "    a = date(self.__anno, self.__mese, self.__giorno)\n",
        "    return a - timedelta(days = numeroGiorni)\n",
        "\n",
        "#9. determinare il numero della settimana in cui si trova una data\n",
        "  def numeroSettimana(self):\n",
        "    if self.__giorno <= 7:\n",
        "      return 1\n",
        "    elif self.__giorno > 7 and self.__giorno <= 14:\n",
        "      return 2\n",
        "    elif self.__giorno > 14 and self.__giorno <= 21:\n",
        "      return 3\n",
        "    elif self.__giorno > 21 and self.__giorno <= 28:\n",
        "      return 4\n",
        "    elif self.__giorno > 28:\n",
        "      return 5"
      ]
    },
    {
      "cell_type": "code",
      "source": [
        "#creo data1 e data2\n",
        "data1 = Data(8, 2, 2024)\n",
        "data2 = Data(26, 11, 2023)"
      ],
      "metadata": {
        "id": "Ty64ng9VnuQ1"
      },
      "execution_count": 72,
      "outputs": []
    },
    {
      "cell_type": "code",
      "source": [
        "data1.getAnno()"
      ],
      "metadata": {
        "colab": {
          "base_uri": "https://localhost:8080/"
        },
        "id": "0uBGfjOKn_9z",
        "outputId": "3f65d8b7-5edd-4d28-8ce1-4a62853cacad"
      },
      "execution_count": 19,
      "outputs": [
        {
          "output_type": "execute_result",
          "data": {
            "text/plain": [
              "2024"
            ]
          },
          "metadata": {},
          "execution_count": 19
        }
      ]
    },
    {
      "cell_type": "code",
      "source": [
        "data2.getMese()"
      ],
      "metadata": {
        "colab": {
          "base_uri": "https://localhost:8080/"
        },
        "id": "sBtVOSyToDzj",
        "outputId": "426efee4-f8b2-4748-a283-6e31e07f2723"
      },
      "execution_count": 20,
      "outputs": [
        {
          "output_type": "execute_result",
          "data": {
            "text/plain": [
              "11"
            ]
          },
          "metadata": {},
          "execution_count": 20
        }
      ]
    },
    {
      "cell_type": "code",
      "source": [
        "data1.precedenzaData(data2)"
      ],
      "metadata": {
        "colab": {
          "base_uri": "https://localhost:8080/"
        },
        "id": "xs9G7--uoF8j",
        "outputId": "38b276b8-ef75-4657-96f5-4ed31d920883"
      },
      "execution_count": 21,
      "outputs": [
        {
          "output_type": "execute_result",
          "data": {
            "text/plain": [
              "False"
            ]
          },
          "metadata": {},
          "execution_count": 21
        }
      ]
    },
    {
      "cell_type": "code",
      "source": [
        "data1.successivaData(data2)"
      ],
      "metadata": {
        "colab": {
          "base_uri": "https://localhost:8080/"
        },
        "id": "yaG1mW5OoNZO",
        "outputId": "191ab298-a691-44d6-db0d-05d861f0bd76"
      },
      "execution_count": 12,
      "outputs": [
        {
          "output_type": "execute_result",
          "data": {
            "text/plain": [
              "True"
            ]
          },
          "metadata": {},
          "execution_count": 12
        }
      ]
    },
    {
      "cell_type": "code",
      "source": [
        "data2.precedenzaData(data1)"
      ],
      "metadata": {
        "colab": {
          "base_uri": "https://localhost:8080/"
        },
        "id": "SZjC0_Dernm4",
        "outputId": "b9716d9b-5cdc-46fa-b3b7-e0e280778313"
      },
      "execution_count": 22,
      "outputs": [
        {
          "output_type": "execute_result",
          "data": {
            "text/plain": [
              "True"
            ]
          },
          "metadata": {},
          "execution_count": 22
        }
      ]
    },
    {
      "cell_type": "code",
      "source": [
        "data2.successivaData(data1)"
      ],
      "metadata": {
        "colab": {
          "base_uri": "https://localhost:8080/"
        },
        "id": "z-LPnAjWrq5k",
        "outputId": "26ab3e7b-12ab-4428-fd3c-9c6ae77dfd9d"
      },
      "execution_count": 23,
      "outputs": [
        {
          "output_type": "execute_result",
          "data": {
            "text/plain": [
              "False"
            ]
          },
          "metadata": {},
          "execution_count": 23
        }
      ]
    },
    {
      "cell_type": "code",
      "source": [
        "#creo data3\n",
        "data3 = Data(8, 2, 2024)"
      ],
      "metadata": {
        "id": "4L1Lh7kUpbSj"
      },
      "execution_count": 73,
      "outputs": []
    },
    {
      "cell_type": "code",
      "source": [
        "data3.uguaglianzaData(data1)"
      ],
      "metadata": {
        "colab": {
          "base_uri": "https://localhost:8080/"
        },
        "id": "gmhIZFjIpfH4",
        "outputId": "ce76e62b-00a4-402d-a4df-ba1d90aaeb2a"
      },
      "execution_count": 25,
      "outputs": [
        {
          "output_type": "execute_result",
          "data": {
            "text/plain": [
              "True"
            ]
          },
          "metadata": {},
          "execution_count": 25
        }
      ]
    },
    {
      "cell_type": "code",
      "source": [
        "data3.uguaglianzaData(data2)"
      ],
      "metadata": {
        "colab": {
          "base_uri": "https://localhost:8080/"
        },
        "id": "GCpZ4uSPpjCf",
        "outputId": "1994409a-636c-4310-c7c4-996c6f5a4894"
      },
      "execution_count": 26,
      "outputs": [
        {
          "output_type": "execute_result",
          "data": {
            "text/plain": [
              "False"
            ]
          },
          "metadata": {},
          "execution_count": 26
        }
      ]
    },
    {
      "cell_type": "code",
      "source": [
        "data1.bisestile()"
      ],
      "metadata": {
        "colab": {
          "base_uri": "https://localhost:8080/"
        },
        "id": "afYceoworwXU",
        "outputId": "8e7bf2ad-fec6-4b2a-f9a6-e3fdb16bf69e"
      },
      "execution_count": 74,
      "outputs": [
        {
          "output_type": "execute_result",
          "data": {
            "text/plain": [
              "True"
            ]
          },
          "metadata": {},
          "execution_count": 74
        }
      ]
    },
    {
      "cell_type": "code",
      "source": [
        "data2.bisestile()"
      ],
      "metadata": {
        "colab": {
          "base_uri": "https://localhost:8080/"
        },
        "id": "WQZfJ4q8r7a8",
        "outputId": "1ee8db67-1217-4055-a1b5-4490dfe61c29"
      },
      "execution_count": 75,
      "outputs": [
        {
          "output_type": "execute_result",
          "data": {
            "text/plain": [
              "False"
            ]
          },
          "metadata": {},
          "execution_count": 75
        }
      ]
    },
    {
      "cell_type": "code",
      "source": [
        "data1.differenzaGiorni(data2)"
      ],
      "metadata": {
        "colab": {
          "base_uri": "https://localhost:8080/"
        },
        "id": "b6_oFGwswssK",
        "outputId": "01bc2e38-8375-4617-e9f7-b5f8024bb93c"
      },
      "execution_count": 49,
      "outputs": [
        {
          "output_type": "execute_result",
          "data": {
            "text/plain": [
              "-74"
            ]
          },
          "metadata": {},
          "execution_count": 49
        }
      ]
    },
    {
      "cell_type": "code",
      "source": [
        "data2.differenzaGiorni(data1)"
      ],
      "metadata": {
        "colab": {
          "base_uri": "https://localhost:8080/"
        },
        "id": "AhPu-gJWw0li",
        "outputId": "b7bbb664-b345-4d9b-9472-b9864bc61dbd"
      },
      "execution_count": 50,
      "outputs": [
        {
          "output_type": "execute_result",
          "data": {
            "text/plain": [
              "74"
            ]
          },
          "metadata": {},
          "execution_count": 50
        }
      ]
    },
    {
      "cell_type": "code",
      "source": [
        "print(data1.aggiuntaGiorni(24))"
      ],
      "metadata": {
        "colab": {
          "base_uri": "https://localhost:8080/"
        },
        "id": "gnlOX72szBUy",
        "outputId": "8ad430e6-740e-46d4-ed60-40dcba5f4ce8"
      },
      "execution_count": 56,
      "outputs": [
        {
          "output_type": "stream",
          "name": "stdout",
          "text": [
            "2024-03-03\n"
          ]
        }
      ]
    },
    {
      "cell_type": "code",
      "source": [
        "print(data1.aggiuntaGiorni(-24))"
      ],
      "metadata": {
        "colab": {
          "base_uri": "https://localhost:8080/"
        },
        "id": "465_gJ0IzXYH",
        "outputId": "68bd86bd-441a-4753-d061-c652f9c9568a"
      },
      "execution_count": 63,
      "outputs": [
        {
          "output_type": "stream",
          "name": "stdout",
          "text": [
            "2024-01-15\n"
          ]
        }
      ]
    },
    {
      "cell_type": "code",
      "source": [
        "data1.numeroSettimana()"
      ],
      "metadata": {
        "colab": {
          "base_uri": "https://localhost:8080/"
        },
        "id": "slz0fZ-O1KlE",
        "outputId": "42013165-6081-41f6-9147-7106cbd6fcc4"
      },
      "execution_count": 76,
      "outputs": [
        {
          "output_type": "execute_result",
          "data": {
            "text/plain": [
              "2"
            ]
          },
          "metadata": {},
          "execution_count": 76
        }
      ]
    },
    {
      "cell_type": "code",
      "source": [
        "data2.numeroSettimana()"
      ],
      "metadata": {
        "colab": {
          "base_uri": "https://localhost:8080/"
        },
        "id": "3WIUIE9Z2MOQ",
        "outputId": "0b08bf12-7834-4dbf-9e3f-2cb8029078b2"
      },
      "execution_count": 77,
      "outputs": [
        {
          "output_type": "execute_result",
          "data": {
            "text/plain": [
              "4"
            ]
          },
          "metadata": {},
          "execution_count": 77
        }
      ]
    }
  ]
}