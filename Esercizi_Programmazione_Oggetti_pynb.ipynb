{
  "nbformat": 4,
  "nbformat_minor": 0,
  "metadata": {
    "colab": {
      "provenance": [],
      "authorship_tag": "ABX9TyNrj1F4caRKZOA7tLPVjJF+",
      "include_colab_link": true
    },
    "kernelspec": {
      "name": "python3",
      "display_name": "Python 3"
    },
    "language_info": {
      "name": "python"
    }
  },
  "cells": [
    {
      "cell_type": "markdown",
      "metadata": {
        "id": "view-in-github",
        "colab_type": "text"
      },
      "source": [
        "<a href=\"https://colab.research.google.com/github/Riccardolotorto/OOP-Python/blob/main/Esercizi_Programmazione_Oggetti_pynb.ipynb\" target=\"_parent\"><img src=\"https://colab.research.google.com/assets/colab-badge.svg\" alt=\"Open In Colab\"/></a>"
      ]
    },
    {
      "cell_type": "markdown",
      "source": [
        "1. creare una classe per memorizzare un prodotto con attributi nome, prezzo e quantità presente in magazzino\n",
        "2. creare una lista di prodotti (inventare i dati)\n",
        "3. permettere all'utente di modificare il prezzo o la quantità dei diversi prodotti\n",
        "4. visualizzare i dati"
      ],
      "metadata": {
        "id": "lHgEuG_SBYFu"
      }
    },
    {
      "cell_type": "code",
      "execution_count": 58,
      "metadata": {
        "id": "uHbAp55aBRh9"
      },
      "outputs": [],
      "source": [
        "from os import truncate\n",
        "#1. creare una classe per memorizzare un prodotto con attributi nome, prezzo e quantità presente in magazzino\n",
        "class Prodotto:\n",
        "  def __init__(self, nome, prezzo, quantita):\n",
        "    self.nome = nome\n",
        "    self.prezzo = prezzo\n",
        "    self.quantita = quantita\n",
        "\n",
        "  def changePrice(self, variazionePrezzo):  #permettere all'utente di modificare il prezzo: posso anche mettere un numero negativo che diminuisce da solo\n",
        "    if self.prezzo + variazionePrezzo > 0:    #evito che il prezzo sia minore di 0\n",
        "      self.prezzo += variazionePrezzo\n",
        "      return True\n",
        "    else:\n",
        "      return False\n",
        "\n",
        "  def changeQuantity(self, variazioneQuantita):    #permettere all'utente di modificare la quantità: posso anche mettere un numero negativo che diminuisce da solo\n",
        "    self.quantita += variazioneQuantita\n",
        "\n",
        "  def changePricePercentage(self, variazionePrezzoPercentuale):\n",
        "    if variazionePrezzoPercentuale >= -100:\n",
        "      self.prezzo = self.prezzo + ((variazionePrezzoPercentuale * self.prezzo) / 100)\n",
        "      #self.prezzo = self.prezzo + (1 + variazionePrezzoPercentuale / 100)\n",
        "      return True\n",
        "    else:\n",
        "      return False"
      ]
    },
    {
      "cell_type": "code",
      "source": [
        "#2. creare una lista di prodotti (inventare i dati)\n",
        "monitor = Prodotto(\"MSI 350\", 350, 10)"
      ],
      "metadata": {
        "id": "-8So6VB_DqKV"
      },
      "execution_count": 59,
      "outputs": []
    },
    {
      "cell_type": "code",
      "source": [
        "tastiera = Prodotto(\"Logitech 567\", 70, 20)"
      ],
      "metadata": {
        "id": "9IUee7hXFSK9"
      },
      "execution_count": 60,
      "outputs": []
    },
    {
      "cell_type": "code",
      "source": [
        "print(monitor)"
      ],
      "metadata": {
        "colab": {
          "base_uri": "https://localhost:8080/"
        },
        "id": "sRv_pFQbD7z2",
        "outputId": "f168befa-a850-4237-ea1f-8d607c391949"
      },
      "execution_count": 61,
      "outputs": [
        {
          "output_type": "stream",
          "name": "stdout",
          "text": [
            "<__main__.Prodotto object at 0x7dfc38b94e20>\n"
          ]
        }
      ]
    },
    {
      "cell_type": "code",
      "source": [
        "print(monitor.prezzo)"
      ],
      "metadata": {
        "colab": {
          "base_uri": "https://localhost:8080/"
        },
        "id": "GkbcDm6tFN7l",
        "outputId": "ec1b79ab-83df-43f4-cfdf-d5ccda619a7b"
      },
      "execution_count": 62,
      "outputs": [
        {
          "output_type": "stream",
          "name": "stdout",
          "text": [
            "350\n"
          ]
        }
      ]
    },
    {
      "cell_type": "code",
      "source": [
        "monitor.changePrice(-150)  #diminuisco il prezzo di 150 euro"
      ],
      "metadata": {
        "colab": {
          "base_uri": "https://localhost:8080/"
        },
        "id": "P--vz-NSFa42",
        "outputId": "9a0540d9-661f-48e0-9d21-2e0434b9b9c0"
      },
      "execution_count": 63,
      "outputs": [
        {
          "output_type": "execute_result",
          "data": {
            "text/plain": [
              "True"
            ]
          },
          "metadata": {},
          "execution_count": 63
        }
      ]
    },
    {
      "cell_type": "code",
      "source": [
        "print(monitor.prezzo)"
      ],
      "metadata": {
        "colab": {
          "base_uri": "https://localhost:8080/"
        },
        "id": "jzlP9sydFfjV",
        "outputId": "ab439be0-0688-4deb-88c0-577d56961918"
      },
      "execution_count": 64,
      "outputs": [
        {
          "output_type": "stream",
          "name": "stdout",
          "text": [
            "200\n"
          ]
        }
      ]
    },
    {
      "cell_type": "code",
      "source": [
        "\"\"\"programma italiano\n",
        "if monitor.changePrice(-150):   #== True\n",
        "  print(monitor.prezzo)\n",
        "else:\n",
        "  print(\"il prezzo non può andare sotto zero\")\"\"\""
      ],
      "metadata": {
        "id": "CNNUs-w8JExO"
      },
      "execution_count": null,
      "outputs": []
    },
    {
      "cell_type": "code",
      "source": [
        "tastiera.prezzo"
      ],
      "metadata": {
        "colab": {
          "base_uri": "https://localhost:8080/"
        },
        "id": "5SM5DasSKyvd",
        "outputId": "538c2614-d529-4f61-cc11-2034ed5557d6"
      },
      "execution_count": 65,
      "outputs": [
        {
          "output_type": "execute_result",
          "data": {
            "text/plain": [
              "70"
            ]
          },
          "metadata": {},
          "execution_count": 65
        }
      ]
    },
    {
      "cell_type": "code",
      "source": [
        "tastiera.changePricePercentage(5)   #alzo il prezzo del 5%"
      ],
      "metadata": {
        "colab": {
          "base_uri": "https://localhost:8080/"
        },
        "id": "UU_6Yd5iK2ld",
        "outputId": "86305127-f54c-48cc-b8f9-3de0958f0941"
      },
      "execution_count": 66,
      "outputs": [
        {
          "output_type": "execute_result",
          "data": {
            "text/plain": [
              "True"
            ]
          },
          "metadata": {},
          "execution_count": 66
        }
      ]
    },
    {
      "cell_type": "code",
      "source": [
        "print(tastiera.prezzo)"
      ],
      "metadata": {
        "colab": {
          "base_uri": "https://localhost:8080/"
        },
        "id": "FlhlHfiWK6dV",
        "outputId": "f73a68a7-76af-4838-9ff3-d9340131be60"
      },
      "execution_count": 67,
      "outputs": [
        {
          "output_type": "stream",
          "name": "stdout",
          "text": [
            "73.5\n"
          ]
        }
      ]
    },
    {
      "cell_type": "code",
      "source": [
        "tastiera.changePricePercentage(-50)   #diminuisco il prezzo del 50%"
      ],
      "metadata": {
        "colab": {
          "base_uri": "https://localhost:8080/"
        },
        "id": "gu8cWoM-LR6F",
        "outputId": "b67dcd0a-4b19-469d-fa44-7f62c8b8e465"
      },
      "execution_count": 70,
      "outputs": [
        {
          "output_type": "execute_result",
          "data": {
            "text/plain": [
              "True"
            ]
          },
          "metadata": {},
          "execution_count": 70
        }
      ]
    },
    {
      "cell_type": "code",
      "source": [
        "print(tastiera.prezzo)"
      ],
      "metadata": {
        "colab": {
          "base_uri": "https://localhost:8080/"
        },
        "id": "Ookg0_QhLWVV",
        "outputId": "de109045-5122-49e5-a2c6-35c99c7beee6"
      },
      "execution_count": 71,
      "outputs": [
        {
          "output_type": "stream",
          "name": "stdout",
          "text": [
            "18.375\n"
          ]
        }
      ]
    }
  ]
}