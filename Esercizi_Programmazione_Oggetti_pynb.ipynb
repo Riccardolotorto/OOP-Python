{
  "nbformat": 4,
  "nbformat_minor": 0,
  "metadata": {
    "colab": {
      "provenance": [],
      "collapsed_sections": [
        "uTj4htObNNh1"
      ],
      "authorship_tag": "ABX9TyM9w64fWUSRjIG/Jvx47FvN",
      "include_colab_link": true
    },
    "kernelspec": {
      "name": "python3",
      "display_name": "Python 3"
    },
    "language_info": {
      "name": "python"
    }
  },
  "cells": [
    {
      "cell_type": "markdown",
      "metadata": {
        "id": "view-in-github",
        "colab_type": "text"
      },
      "source": [
        "<a href=\"https://colab.research.google.com/github/Riccardolotorto/OOP-Python/blob/main/Esercizi_Programmazione_Oggetti_pynb.ipynb\" target=\"_parent\"><img src=\"https://colab.research.google.com/assets/colab-badge.svg\" alt=\"Open In Colab\"/></a>"
      ]
    },
    {
      "cell_type": "markdown",
      "source": [
        "1. creare una classe per memorizzare un prodotto con attributi nome, prezzo e quantità presente in magazzino\n",
        "2. creare una lista di prodotti (inventare i dati)\n",
        "3. permettere all'utente di modificare il prezzo o la quantità dei diversi prodotti\n",
        "4. visualizzare i dati"
      ],
      "metadata": {
        "id": "lHgEuG_SBYFu"
      }
    },
    {
      "cell_type": "code",
      "execution_count": null,
      "metadata": {
        "id": "uHbAp55aBRh9"
      },
      "outputs": [],
      "source": [
        "from os import truncate\n",
        "#1. creare una classe per memorizzare un prodotto con attributi nome, prezzo e quantità presente in magazzino\n",
        "class Prodotto:\n",
        "  def __init__(self, nome, prezzo, quantita):\n",
        "    self.nome = nome\n",
        "    self.prezzo = prezzo\n",
        "    self.quantita = quantita\n",
        "\n",
        "  \"\"\"\n",
        "  def getNome(self):\n",
        "    return self.__nome\n",
        "  def getPrezzo(self):\n",
        "    return self.__prezzo\n",
        "  def getQuantita(self):\n",
        "    return self.__quantita\n",
        "  \"\"\"\n",
        "\n",
        "  def changePrice(self, variazionePrezzo):  #permettere all'utente di modificare il prezzo: posso anche mettere un numero negativo che diminuisce da solo\n",
        "    if self.prezzo + variazionePrezzo > 0:    #evito che il prezzo sia minore di 0\n",
        "      self.prezzo += variazionePrezzo\n",
        "      return True\n",
        "    else:\n",
        "      return False\n",
        "\n",
        "  def changeQuantity(self, variazioneQuantita):    #permettere all'utente di modificare la quantità: posso anche mettere un numero negativo che diminuisce da solo\n",
        "    if self.quantita + variazioneQuantita > 0:    #evito che la quantità sia minore di 0\n",
        "      self.quantita += variazioneQuantita\n",
        "      return True\n",
        "    else:\n",
        "      return False\n",
        "\n",
        "  def changePricePercentage(self, variazionePrezzoPercentuale):\n",
        "    if variazionePrezzoPercentuale >= -100:\n",
        "      self.prezzo = self.prezzo + ((variazionePrezzoPercentuale * self.prezzo) / 100)\n",
        "      #self.prezzo = self.prezzo + (1 + variazionePrezzoPercentuale / 100)\n",
        "      return True\n",
        "    else:\n",
        "      return False"
      ]
    },
    {
      "cell_type": "code",
      "source": [
        "#2. creare una lista di prodotti (inventare i dati)\n",
        "monitor = Prodotto(\"MSI 350\", 350, 10)"
      ],
      "metadata": {
        "id": "-8So6VB_DqKV"
      },
      "execution_count": null,
      "outputs": []
    },
    {
      "cell_type": "code",
      "source": [
        "tastiera = Prodotto(\"Logitech 567\", 70, 20)"
      ],
      "metadata": {
        "id": "9IUee7hXFSK9"
      },
      "execution_count": null,
      "outputs": []
    },
    {
      "cell_type": "code",
      "source": [
        "print(monitor)"
      ],
      "metadata": {
        "colab": {
          "base_uri": "https://localhost:8080/"
        },
        "id": "sRv_pFQbD7z2",
        "outputId": "f168befa-a850-4237-ea1f-8d607c391949"
      },
      "execution_count": null,
      "outputs": [
        {
          "output_type": "stream",
          "name": "stdout",
          "text": [
            "<__main__.Prodotto object at 0x7dfc38b94e20>\n"
          ]
        }
      ]
    },
    {
      "cell_type": "code",
      "source": [
        "print(monitor.prezzo)"
      ],
      "metadata": {
        "colab": {
          "base_uri": "https://localhost:8080/"
        },
        "id": "GkbcDm6tFN7l",
        "outputId": "ec1b79ab-83df-43f4-cfdf-d5ccda619a7b"
      },
      "execution_count": null,
      "outputs": [
        {
          "output_type": "stream",
          "name": "stdout",
          "text": [
            "350\n"
          ]
        }
      ]
    },
    {
      "cell_type": "code",
      "source": [
        "monitor.changePrice(-150)  #diminuisco il prezzo di 150 euro"
      ],
      "metadata": {
        "colab": {
          "base_uri": "https://localhost:8080/"
        },
        "id": "P--vz-NSFa42",
        "outputId": "9a0540d9-661f-48e0-9d21-2e0434b9b9c0"
      },
      "execution_count": null,
      "outputs": [
        {
          "output_type": "execute_result",
          "data": {
            "text/plain": [
              "True"
            ]
          },
          "metadata": {},
          "execution_count": 63
        }
      ]
    },
    {
      "cell_type": "code",
      "source": [
        "print(monitor.prezzo)"
      ],
      "metadata": {
        "colab": {
          "base_uri": "https://localhost:8080/"
        },
        "id": "jzlP9sydFfjV",
        "outputId": "ab439be0-0688-4deb-88c0-577d56961918"
      },
      "execution_count": null,
      "outputs": [
        {
          "output_type": "stream",
          "name": "stdout",
          "text": [
            "200\n"
          ]
        }
      ]
    },
    {
      "cell_type": "code",
      "source": [
        "\"\"\"programma italiano\n",
        "if monitor.changePrice(-150):   #== True\n",
        "  print(monitor.prezzo)\n",
        "else:\n",
        "  print(\"il prezzo non può andare sotto zero\")\"\"\""
      ],
      "metadata": {
        "id": "CNNUs-w8JExO"
      },
      "execution_count": null,
      "outputs": []
    },
    {
      "cell_type": "code",
      "source": [
        "tastiera.prezzo"
      ],
      "metadata": {
        "colab": {
          "base_uri": "https://localhost:8080/"
        },
        "id": "5SM5DasSKyvd",
        "outputId": "538c2614-d529-4f61-cc11-2034ed5557d6"
      },
      "execution_count": null,
      "outputs": [
        {
          "output_type": "execute_result",
          "data": {
            "text/plain": [
              "70"
            ]
          },
          "metadata": {},
          "execution_count": 65
        }
      ]
    },
    {
      "cell_type": "code",
      "source": [
        "tastiera.changePricePercentage(5)   #alzo il prezzo del 5%"
      ],
      "metadata": {
        "colab": {
          "base_uri": "https://localhost:8080/"
        },
        "id": "UU_6Yd5iK2ld",
        "outputId": "86305127-f54c-48cc-b8f9-3de0958f0941"
      },
      "execution_count": null,
      "outputs": [
        {
          "output_type": "execute_result",
          "data": {
            "text/plain": [
              "True"
            ]
          },
          "metadata": {},
          "execution_count": 66
        }
      ]
    },
    {
      "cell_type": "code",
      "source": [
        "print(tastiera.prezzo)"
      ],
      "metadata": {
        "colab": {
          "base_uri": "https://localhost:8080/"
        },
        "id": "FlhlHfiWK6dV",
        "outputId": "f73a68a7-76af-4838-9ff3-d9340131be60"
      },
      "execution_count": null,
      "outputs": [
        {
          "output_type": "stream",
          "name": "stdout",
          "text": [
            "73.5\n"
          ]
        }
      ]
    },
    {
      "cell_type": "code",
      "source": [
        "tastiera.changePricePercentage(-50)   #diminuisco il prezzo del 50%"
      ],
      "metadata": {
        "colab": {
          "base_uri": "https://localhost:8080/"
        },
        "id": "gu8cWoM-LR6F",
        "outputId": "b67dcd0a-4b19-469d-fa44-7f62c8b8e465"
      },
      "execution_count": null,
      "outputs": [
        {
          "output_type": "execute_result",
          "data": {
            "text/plain": [
              "True"
            ]
          },
          "metadata": {},
          "execution_count": 70
        }
      ]
    },
    {
      "cell_type": "code",
      "source": [
        "print(tastiera.prezzo)"
      ],
      "metadata": {
        "colab": {
          "base_uri": "https://localhost:8080/"
        },
        "id": "Ookg0_QhLWVV",
        "outputId": "de109045-5122-49e5-a2c6-35c99c7beee6"
      },
      "execution_count": null,
      "outputs": [
        {
          "output_type": "stream",
          "name": "stdout",
          "text": [
            "18.375\n"
          ]
        }
      ]
    },
    {
      "cell_type": "code",
      "source": [
        "#creare oggetti con for\n",
        "import random\n",
        "magazzino = []\n",
        "for prodotto in range(20):\n",
        "  magazzino.append(Prodotto(f\"BenQ #{prodotto}\" , round(random.uniform(0, 500), 2), random.randrange(0, 10)))\n",
        "#BenQ #{prodotto} è il nome del prodotto che ha il numero del ciclo;\n",
        "#round(random.uniform(0, 500), 2) è il prezzo decimale genereato casualmente con solo due cifre dopo la virgola con round(..,)\n",
        "#random.randrange(0, 10) è la quantità generata casualmente da 0 a 9"
      ],
      "metadata": {
        "id": "Y2ke1u3aG0Lb"
      },
      "execution_count": null,
      "outputs": []
    },
    {
      "cell_type": "code",
      "source": [
        "#visualizza tutti i prodotti con i lori attributi\n",
        "for prodotto in range(20):\n",
        "  print(magazzino[prodotto].nome, magazzino[prodotto].prezzo, magazzino[prodotto].quantita)"
      ],
      "metadata": {
        "id": "yXB0vXR_IaF0"
      },
      "execution_count": null,
      "outputs": []
    },
    {
      "cell_type": "code",
      "source": [
        "#modifica del prezzo con metodo changePrice\n",
        "if magazzino[5].changePrice(-5):\n",
        "  print(magazzino[5].prezzo)\n",
        "else:\n",
        "  raise ValueError('il prezzo non può andare sotto zero')"
      ],
      "metadata": {
        "id": "8Dn94nvyIz-p"
      },
      "execution_count": null,
      "outputs": []
    },
    {
      "cell_type": "code",
      "source": [
        "#modifica del prezzo con metodo changePricePercentage\n",
        "if magazzino[6].changePricePercentage(-1000):\n",
        "  print(magazzino[6].prezzo)\n",
        "else:\n",
        "  raise ValueError('il prezzo non può andare sotto zero')"
      ],
      "metadata": {
        "id": "ozJveqrZJaHR"
      },
      "execution_count": null,
      "outputs": []
    },
    {
      "cell_type": "markdown",
      "source": [
        "#esercizio biblioteca"
      ],
      "metadata": {
        "id": "uTj4htObNNh1"
      }
    },
    {
      "cell_type": "markdown",
      "source": [
        "1.Crea una classe Libro che abbia gli attributi necessari.\n",
        "\n",
        "2.Implementa un metodo presta che imposta la disponibilità del libro su False quando viene prestato e un metodo restituisci che imposta la disponibilità su True quando viene restituito.\n",
        "\n",
        "3.Crea una classe Biblioteca che gestisca un elenco di libri.\n",
        "\n",
        "4.Implementa un metodo aggiungi_libro nella classe Biblioteca per aggiungere un nuovo libro all'elenco.\n",
        "\n",
        "5.Implementa un metodo cerca_libro nella classe Biblioteca che restituisca le informazioni di un libro dato il suo titolo.\n",
        "\n",
        "6.Aggiungi la possibilità di visualizzare l'elenco completo dei libri disponibili e di quelli prestati."
      ],
      "metadata": {
        "id": "H97NzlStNPg9"
      }
    },
    {
      "cell_type": "code",
      "source": [
        "class Libro:\n",
        "  def __init__(self, titolo, autore, anno):\n",
        "    self.titolo = titolo\n",
        "    self.autore = autore\n",
        "    self.anno = anno\n",
        "    self.disponibile = True\n",
        "\n",
        "  def presta(self):\n",
        "    if self.disponibile:\n",
        "      self.disponibile = False\n",
        "      return True  # Il libro è stato prestato con successo\n",
        "    else:\n",
        "      return False  # Il libro non è disponibile al momento\n",
        "\n",
        "  def restituisci(self):\n",
        "    self.disponibile = True"
      ],
      "metadata": {
        "id": "C3uO4ujJNVZ-"
      },
      "execution_count": 21,
      "outputs": []
    },
    {
      "cell_type": "code",
      "source": [
        "libro1 = Libro(\"Lo spleen\", \"Boudlare\", 1869)"
      ],
      "metadata": {
        "id": "BIqmRE7hQfcg"
      },
      "execution_count": 22,
      "outputs": []
    },
    {
      "cell_type": "code",
      "source": [
        "libro2 = Libro(\"assassinio di roger ackroyd\", \"Christie\", 1926)"
      ],
      "metadata": {
        "id": "ogVqQYyZSosR"
      },
      "execution_count": 23,
      "outputs": []
    },
    {
      "cell_type": "code",
      "source": [
        "class Biblioteca:\n",
        "  def __init__(self):\n",
        "    self.libri = []\n",
        "\n",
        "  def aggiungiLibro(self, libro):\n",
        "    self.libri.append(libro)\n",
        "\n",
        "  def cercaLibro(self, titolo):\n",
        "    for l in self.libri:\n",
        "      if l.titolo == titolo:\n",
        "        return f\"{l.titolo}, {l.autore}, {l.anno}\"\n",
        "    return False\n",
        "\n",
        "  def elencoLibriDisponibili(self):\n",
        "    listaDisponibili = [l.titolo for l in self.libri if l.disponibile == True]\n",
        "    if len(listaDisponibili) > 0:\n",
        "      return listaDisponibili\n",
        "    else:\n",
        "      return False"
      ],
      "metadata": {
        "id": "tN_X2MFPPqXn"
      },
      "execution_count": 24,
      "outputs": []
    },
    {
      "cell_type": "code",
      "source": [
        "biblioteca = Biblioteca()"
      ],
      "metadata": {
        "id": "asW8CAnAS3cY"
      },
      "execution_count": 25,
      "outputs": []
    },
    {
      "cell_type": "code",
      "source": [
        "biblioteca.aggiungiLibro(libro1)\n",
        "biblioteca.aggiungiLibro(libro2)"
      ],
      "metadata": {
        "id": "4_RNnFfJS6Mg"
      },
      "execution_count": 26,
      "outputs": []
    },
    {
      "cell_type": "code",
      "source": [
        "print(biblioteca.elencoLibriDisponibili())"
      ],
      "metadata": {
        "colab": {
          "base_uri": "https://localhost:8080/"
        },
        "id": "-bZYwuQQTBCy",
        "outputId": "4c1b51f4-fab4-449a-a6ea-f0b4b7de41c8"
      },
      "execution_count": 27,
      "outputs": [
        {
          "output_type": "stream",
          "name": "stdout",
          "text": [
            "['Lo spleen', 'assassinio di roger ackroyd']\n"
          ]
        }
      ]
    },
    {
      "cell_type": "code",
      "source": [
        "libro1.presta()"
      ],
      "metadata": {
        "id": "fX8q4G-7THHv",
        "colab": {
          "base_uri": "https://localhost:8080/"
        },
        "outputId": "66d81319-c89a-48a6-9937-9fc1085d77b2"
      },
      "execution_count": 9,
      "outputs": [
        {
          "output_type": "execute_result",
          "data": {
            "text/plain": [
              "True"
            ]
          },
          "metadata": {},
          "execution_count": 9
        }
      ]
    },
    {
      "cell_type": "code",
      "source": [
        "print(biblioteca.elencoLibriDisponibili())"
      ],
      "metadata": {
        "colab": {
          "base_uri": "https://localhost:8080/"
        },
        "id": "KxQoITqGTKUu",
        "outputId": "ffeb5f61-2095-473d-8c03-0b9a627547df"
      },
      "execution_count": 10,
      "outputs": [
        {
          "output_type": "stream",
          "name": "stdout",
          "text": [
            "['assassinio di roger ackroyd']\n"
          ]
        }
      ]
    },
    {
      "cell_type": "code",
      "source": [
        "libro1.restituisci()"
      ],
      "metadata": {
        "id": "zifH62djTOJG"
      },
      "execution_count": 11,
      "outputs": []
    },
    {
      "cell_type": "code",
      "source": [
        "print(biblioteca.elencoLibriDisponibili())"
      ],
      "metadata": {
        "colab": {
          "base_uri": "https://localhost:8080/"
        },
        "id": "_xcQfrd1TgGj",
        "outputId": "45ed10dc-a02f-4e66-ee54-0b4b115cac93"
      },
      "execution_count": 12,
      "outputs": [
        {
          "output_type": "stream",
          "name": "stdout",
          "text": [
            "['Lo spleen', 'assassinio di roger ackroyd']\n"
          ]
        }
      ]
    },
    {
      "cell_type": "code",
      "source": [
        "libro2.presta()"
      ],
      "metadata": {
        "id": "RMeircs6Tuwy",
        "colab": {
          "base_uri": "https://localhost:8080/"
        },
        "outputId": "7762033d-5c01-40b9-b651-2dff5512aff4"
      },
      "execution_count": 13,
      "outputs": [
        {
          "output_type": "execute_result",
          "data": {
            "text/plain": [
              "True"
            ]
          },
          "metadata": {},
          "execution_count": 13
        }
      ]
    },
    {
      "cell_type": "code",
      "source": [
        "print(biblioteca.elencoLibriDisponibili())"
      ],
      "metadata": {
        "colab": {
          "base_uri": "https://localhost:8080/"
        },
        "id": "CdKfTnLfYBCR",
        "outputId": "3b146bea-5d35-47cb-a2e8-0b061b73e33a"
      },
      "execution_count": 14,
      "outputs": [
        {
          "output_type": "stream",
          "name": "stdout",
          "text": [
            "['Lo spleen']\n"
          ]
        }
      ]
    },
    {
      "cell_type": "code",
      "source": [
        "libro2.restituisci()"
      ],
      "metadata": {
        "id": "mAriwRCJYCEX"
      },
      "execution_count": 15,
      "outputs": []
    },
    {
      "cell_type": "code",
      "source": [
        "print(biblioteca.elencoLibriDisponibili())"
      ],
      "metadata": {
        "colab": {
          "base_uri": "https://localhost:8080/"
        },
        "id": "zVFP3WgXYEfH",
        "outputId": "22679b9d-4faa-40b9-bcf1-ad837523b9cb"
      },
      "execution_count": 16,
      "outputs": [
        {
          "output_type": "stream",
          "name": "stdout",
          "text": [
            "['Lo spleen', 'assassinio di roger ackroyd']\n"
          ]
        }
      ]
    },
    {
      "cell_type": "code",
      "source": [
        "print(biblioteca.cercaLibro(\"assassinio di roger ackroyd\"))"
      ],
      "metadata": {
        "colab": {
          "base_uri": "https://localhost:8080/"
        },
        "id": "JyH5wiLVYHsI",
        "outputId": "1741400f-39c0-443f-8db7-79b65fe99c7f"
      },
      "execution_count": 28,
      "outputs": [
        {
          "output_type": "stream",
          "name": "stdout",
          "text": [
            "assassinio di roger ackroyd, Christie, 1926\n"
          ]
        }
      ]
    },
    {
      "cell_type": "code",
      "source": [
        "print(biblioteca.cercaLibro(\"ciao\"))"
      ],
      "metadata": {
        "colab": {
          "base_uri": "https://localhost:8080/"
        },
        "id": "yCTaM5gG3yXD",
        "outputId": "dab45c9c-e7d2-44e1-ab0b-8abe1bc18575"
      },
      "execution_count": 29,
      "outputs": [
        {
          "output_type": "stream",
          "name": "stdout",
          "text": [
            "False\n"
          ]
        }
      ]
    }
  ]
}