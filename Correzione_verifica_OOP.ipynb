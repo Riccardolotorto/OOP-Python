{
  "nbformat": 4,
  "nbformat_minor": 0,
  "metadata": {
    "colab": {
      "provenance": [],
      "authorship_tag": "ABX9TyOXZLwB2O3EDaywgFbxKTIa",
      "include_colab_link": true
    },
    "kernelspec": {
      "name": "python3",
      "display_name": "Python 3"
    },
    "language_info": {
      "name": "python"
    }
  },
  "cells": [
    {
      "cell_type": "markdown",
      "metadata": {
        "id": "view-in-github",
        "colab_type": "text"
      },
      "source": [
        "<a href=\"https://colab.research.google.com/github/Riccardolotorto/OOP-Python/blob/main/Correzione_verifica_OOP.ipynb\" target=\"_parent\"><img src=\"https://colab.research.google.com/assets/colab-badge.svg\" alt=\"Open In Colab\"/></a>"
      ]
    },
    {
      "cell_type": "code",
      "execution_count": null,
      "metadata": {
        "id": "xcWqioq6XgCG"
      },
      "outputs": [],
      "source": [
        "#esercizio1\n",
        "class Rettangolo:\n",
        "  def __init__(self, base, altezza):\n",
        "    self.__base = base\n",
        "    self.__altezza = altezza\n",
        "\n",
        "  def getBase(self):\n",
        "    return self.__base\n",
        "\n",
        "  def getAltezza(self):\n",
        "    return self.__altezza\n",
        "\n",
        "  def setBase(self, base):\n",
        "    self.__base = base\n",
        "\n",
        "  def setAltezza(self, altezza):\n",
        "    self.__altezza = altezza\n",
        "\n",
        "  def diagonaleInCm(self):\n",
        "    import math\n",
        "    return math.sqrt(self.__base ** 2 + self.__altezza ** 2)\n",
        "\n",
        "  def diagonaleInInch(self):\n",
        "    import math\n",
        "    a = self.__base / 2.54\n",
        "    b = self.__altezza / 2.54\n",
        "    return math.sqrt(a  ** 2 + b ** 2)"
      ]
    },
    {
      "cell_type": "code",
      "source": [
        "rettangono1 = Rettangolo(10, 12)"
      ],
      "metadata": {
        "id": "gxVoWIuNYNEf"
      },
      "execution_count": null,
      "outputs": []
    },
    {
      "cell_type": "code",
      "source": [
        "print(rettangono1.diagonaleInCm())\n",
        "print(rettangono1.diagonaleInInch())"
      ],
      "metadata": {
        "colab": {
          "base_uri": "https://localhost:8080/"
        },
        "id": "6Ef9BVZdYWE1",
        "outputId": "cfde443e-901a-4971-b62e-18643c395686"
      },
      "execution_count": null,
      "outputs": [
        {
          "output_type": "stream",
          "name": "stdout",
          "text": [
            "15.620499351813308\n",
            "6.149802894414688\n"
          ]
        }
      ]
    },
    {
      "cell_type": "code",
      "source": [
        "#esercizio 2\n",
        "class Schermo(Rettangolo):\n",
        "  def __init__(self, base, altezza, numeroPixelBase, numeroPixelAltezza):\n",
        "    super().__init__(base, altezza)\n",
        "    self.numeroPixelBase = numeroPixelBase\n",
        "    self.numeroPixelAltezza = numeroPixelAltezza\n",
        "\n",
        "  def risoluzione(self):\n",
        "    import math\n",
        "    a = math.sqrt(self.numeroPixelBase ** 2 + self.numeroPixelAltezza ** 2)\n",
        "    b = self.diagonaleInInch()\n",
        "    return a / b"
      ],
      "metadata": {
        "id": "wOK0ymGBYo72"
      },
      "execution_count": null,
      "outputs": []
    },
    {
      "cell_type": "code",
      "source": [
        "schermo1 = Schermo(54, 32, 1920, 1080)"
      ],
      "metadata": {
        "id": "BNhUmOm4ZXSr"
      },
      "execution_count": null,
      "outputs": []
    },
    {
      "cell_type": "code",
      "source": [
        "schermo1.risoluzione()"
      ],
      "metadata": {
        "colab": {
          "base_uri": "https://localhost:8080/"
        },
        "id": "3Ub6g8VcZbK6",
        "outputId": "5269d791-9933-47d9-ce87-1f7006c4b3b2"
      },
      "execution_count": null,
      "outputs": [
        {
          "output_type": "execute_result",
          "data": {
            "text/plain": [
              "89.14188268558706"
            ]
          },
          "metadata": {},
          "execution_count": 14
        }
      ]
    },
    {
      "cell_type": "code",
      "source": [
        "#esercizio 3\n",
        "class Smartphone(Schermo):\n",
        "  def __init__(self, base, altezza, numeroPixelBase, numeroPixelAltezza, prezzo):\n",
        "    super().__init__(base, altezza, numeroPixelBase, numeroPixelAltezza)\n",
        "    self.prezzo = prezzo\n",
        "\n",
        "  def valutazione(self):\n",
        "    return self.risoluzione() / self.prezzo\n",
        "\n",
        "  def __gt__(self, altro):\n",
        "    if self.valutazione() > altro.valutazione():\n",
        "      return True\n",
        "    else:\n",
        "      return False\n",
        "\n",
        "  def __eq__(self, altro):\n",
        "    if self.valutazione() == altro.valutazione():\n",
        "      return True\n",
        "    else:\n",
        "      return False\n",
        "\n",
        "  def __lt__(self, altro):\n",
        "    if self.valutazione() < altro.valutazione():\n",
        "      return True\n",
        "    else:\n",
        "      return False"
      ],
      "metadata": {
        "id": "UoMWc1blZeZg"
      },
      "execution_count": null,
      "outputs": []
    },
    {
      "cell_type": "code",
      "source": [
        "s23 = Smartphone(16.34, 7.81, 3088, 1440, 949)\n",
        "s24 = Smartphone(14.7, 7.6, 2340, 1080, 929)"
      ],
      "metadata": {
        "id": "aaEFok0ja8Re"
      },
      "execution_count": null,
      "outputs": []
    },
    {
      "cell_type": "code",
      "source": [
        "s23.valutazione()"
      ],
      "metadata": {
        "colab": {
          "base_uri": "https://localhost:8080/"
        },
        "id": "KxkCjncYbMPf",
        "outputId": "876f614d-2008-4026-f9b0-6efefd876f25"
      },
      "execution_count": null,
      "outputs": [
        {
          "output_type": "execute_result",
          "data": {
            "text/plain": [
              "0.5035468892021251"
            ]
          },
          "metadata": {},
          "execution_count": 23
        }
      ]
    },
    {
      "cell_type": "code",
      "source": [
        "s24.valutazione()"
      ],
      "metadata": {
        "colab": {
          "base_uri": "https://localhost:8080/"
        },
        "id": "E-xw2ITBbPYf",
        "outputId": "b0cb7943-ac4a-4c0e-a63c-5a62f5951524"
      },
      "execution_count": null,
      "outputs": [
        {
          "output_type": "execute_result",
          "data": {
            "text/plain": [
              "0.4258053027690498"
            ]
          },
          "metadata": {},
          "execution_count": 24
        }
      ]
    },
    {
      "cell_type": "code",
      "source": [
        "if s23 > s24:\n",
        "  print(\"Il telefono s23 è valutato meglio del telefono s24\")\n",
        "else:\n",
        "  print(\"Il telefono s24 è valutato meglio del telefono s23\")"
      ],
      "metadata": {
        "colab": {
          "base_uri": "https://localhost:8080/"
        },
        "id": "IEJNtAeGbTWw",
        "outputId": "852c9dd1-e95b-4d53-b9d1-a0bcaf3b5886"
      },
      "execution_count": null,
      "outputs": [
        {
          "output_type": "stream",
          "name": "stdout",
          "text": [
            "Il telefono s23 è valutato meglio del telefono s24\n"
          ]
        }
      ]
    }
  ]
}