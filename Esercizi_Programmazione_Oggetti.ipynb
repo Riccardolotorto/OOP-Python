{
  "nbformat": 4,
  "nbformat_minor": 0,
  "metadata": {
    "colab": {
      "provenance": [],
      "collapsed_sections": [
        "cfhh62j_V85s",
        "uTj4htObNNh1",
        "Ba-hNRJln7e3",
        "LM-Yz63rRXii",
        "crWwcIRUeWAE",
        "OT6A2qCplLi7",
        "nPkyVvvCo9Ij",
        "R34aAt63XQA1",
        "6BcyZCYlhIW6"
      ],
      "authorship_tag": "ABX9TyM9K71fGCYpLDRBeP9dUDi8",
      "include_colab_link": true
    },
    "kernelspec": {
      "name": "python3",
      "display_name": "Python 3"
    },
    "language_info": {
      "name": "python"
    }
  },
  "cells": [
    {
      "cell_type": "markdown",
      "metadata": {
        "id": "view-in-github",
        "colab_type": "text"
      },
      "source": [
        "<a href=\"https://colab.research.google.com/github/Riccardolotorto/OOP-Python/blob/main/Esercizi_Programmazione_Oggetti.ipynb\" target=\"_parent\"><img src=\"https://colab.research.google.com/assets/colab-badge.svg\" alt=\"Open In Colab\"/></a>"
      ]
    },
    {
      "cell_type": "markdown",
      "source": [
        "#esercizio prodotto"
      ],
      "metadata": {
        "id": "cfhh62j_V85s"
      }
    },
    {
      "cell_type": "markdown",
      "source": [
        "1. creare una classe per memorizzare un prodotto con attributi nome, prezzo e quantità presente in magazzino\n",
        "2. creare una lista di prodotti (inventare i dati)\n",
        "3. permettere all'utente di modificare il prezzo o la quantità dei diversi prodotti\n",
        "4. visualizzare i dati"
      ],
      "metadata": {
        "id": "lHgEuG_SBYFu"
      }
    },
    {
      "cell_type": "code",
      "execution_count": null,
      "metadata": {
        "id": "uHbAp55aBRh9"
      },
      "outputs": [],
      "source": [
        "from os import truncate\n",
        "#1. creare una classe per memorizzare un prodotto con attributi nome, prezzo e quantità presente in magazzino\n",
        "class Prodotto:\n",
        "  def __init__(self, nome, prezzo, quantita):\n",
        "    self.nome = nome\n",
        "    self.prezzo = prezzo\n",
        "    self.quantita = quantita\n",
        "\n",
        "  \"\"\"\n",
        "  def getNome(self):\n",
        "    return self.__nome\n",
        "  def getPrezzo(self):\n",
        "    return self.__prezzo\n",
        "  def getQuantita(self):\n",
        "    return self.__quantita\n",
        "  \"\"\"\n",
        "\n",
        "  def changePrice(self, variazionePrezzo):  #permettere all'utente di modificare il prezzo: posso anche mettere un numero negativo che diminuisce da solo\n",
        "    if self.prezzo + variazionePrezzo > 0:    #evito che il prezzo sia minore di 0\n",
        "      self.prezzo += variazionePrezzo\n",
        "      return True\n",
        "    else:\n",
        "      return False\n",
        "\n",
        "  def changeQuantity(self, variazioneQuantita):    #permettere all'utente di modificare la quantità: posso anche mettere un numero negativo che diminuisce da solo\n",
        "    if self.quantita + variazioneQuantita > 0:    #evito che la quantità sia minore di 0\n",
        "      self.quantita += variazioneQuantita\n",
        "      return True\n",
        "    else:\n",
        "      return False\n",
        "\n",
        "  def changePricePercentage(self, variazionePrezzoPercentuale):\n",
        "    if variazionePrezzoPercentuale >= -100:\n",
        "      self.prezzo = self.prezzo + ((variazionePrezzoPercentuale * self.prezzo) / 100)\n",
        "      #self.prezzo = self.prezzo + (1 + variazionePrezzoPercentuale / 100)\n",
        "      return True\n",
        "    else:\n",
        "      return False"
      ]
    },
    {
      "cell_type": "code",
      "source": [
        "#2. creare una lista di prodotti (inventare i dati)\n",
        "monitor = Prodotto(\"MSI 350\", 350, 10)"
      ],
      "metadata": {
        "id": "-8So6VB_DqKV"
      },
      "execution_count": null,
      "outputs": []
    },
    {
      "cell_type": "code",
      "source": [
        "tastiera = Prodotto(\"Logitech 567\", 70, 20)"
      ],
      "metadata": {
        "id": "9IUee7hXFSK9"
      },
      "execution_count": null,
      "outputs": []
    },
    {
      "cell_type": "code",
      "source": [
        "print(monitor)"
      ],
      "metadata": {
        "colab": {
          "base_uri": "https://localhost:8080/"
        },
        "id": "sRv_pFQbD7z2",
        "outputId": "f168befa-a850-4237-ea1f-8d607c391949"
      },
      "execution_count": null,
      "outputs": [
        {
          "output_type": "stream",
          "name": "stdout",
          "text": [
            "<__main__.Prodotto object at 0x7dfc38b94e20>\n"
          ]
        }
      ]
    },
    {
      "cell_type": "code",
      "source": [
        "print(monitor.prezzo)"
      ],
      "metadata": {
        "colab": {
          "base_uri": "https://localhost:8080/"
        },
        "id": "GkbcDm6tFN7l",
        "outputId": "ec1b79ab-83df-43f4-cfdf-d5ccda619a7b"
      },
      "execution_count": null,
      "outputs": [
        {
          "output_type": "stream",
          "name": "stdout",
          "text": [
            "350\n"
          ]
        }
      ]
    },
    {
      "cell_type": "code",
      "source": [
        "monitor.changePrice(-150)  #diminuisco il prezzo di 150 euro"
      ],
      "metadata": {
        "colab": {
          "base_uri": "https://localhost:8080/"
        },
        "id": "P--vz-NSFa42",
        "outputId": "9a0540d9-661f-48e0-9d21-2e0434b9b9c0"
      },
      "execution_count": null,
      "outputs": [
        {
          "output_type": "execute_result",
          "data": {
            "text/plain": [
              "True"
            ]
          },
          "metadata": {},
          "execution_count": 63
        }
      ]
    },
    {
      "cell_type": "code",
      "source": [
        "print(monitor.prezzo)"
      ],
      "metadata": {
        "colab": {
          "base_uri": "https://localhost:8080/"
        },
        "id": "jzlP9sydFfjV",
        "outputId": "ab439be0-0688-4deb-88c0-577d56961918"
      },
      "execution_count": null,
      "outputs": [
        {
          "output_type": "stream",
          "name": "stdout",
          "text": [
            "200\n"
          ]
        }
      ]
    },
    {
      "cell_type": "code",
      "source": [
        "\"\"\"programma italiano\n",
        "if monitor.changePrice(-150):   #== True\n",
        "  print(monitor.prezzo)\n",
        "else:\n",
        "  print(\"il prezzo non può andare sotto zero\")\"\"\""
      ],
      "metadata": {
        "id": "CNNUs-w8JExO"
      },
      "execution_count": null,
      "outputs": []
    },
    {
      "cell_type": "code",
      "source": [
        "tastiera.prezzo"
      ],
      "metadata": {
        "colab": {
          "base_uri": "https://localhost:8080/"
        },
        "id": "5SM5DasSKyvd",
        "outputId": "538c2614-d529-4f61-cc11-2034ed5557d6"
      },
      "execution_count": null,
      "outputs": [
        {
          "output_type": "execute_result",
          "data": {
            "text/plain": [
              "70"
            ]
          },
          "metadata": {},
          "execution_count": 65
        }
      ]
    },
    {
      "cell_type": "code",
      "source": [
        "tastiera.changePricePercentage(5)   #alzo il prezzo del 5%"
      ],
      "metadata": {
        "colab": {
          "base_uri": "https://localhost:8080/"
        },
        "id": "UU_6Yd5iK2ld",
        "outputId": "86305127-f54c-48cc-b8f9-3de0958f0941"
      },
      "execution_count": null,
      "outputs": [
        {
          "output_type": "execute_result",
          "data": {
            "text/plain": [
              "True"
            ]
          },
          "metadata": {},
          "execution_count": 66
        }
      ]
    },
    {
      "cell_type": "code",
      "source": [
        "print(tastiera.prezzo)"
      ],
      "metadata": {
        "colab": {
          "base_uri": "https://localhost:8080/"
        },
        "id": "FlhlHfiWK6dV",
        "outputId": "f73a68a7-76af-4838-9ff3-d9340131be60"
      },
      "execution_count": null,
      "outputs": [
        {
          "output_type": "stream",
          "name": "stdout",
          "text": [
            "73.5\n"
          ]
        }
      ]
    },
    {
      "cell_type": "code",
      "source": [
        "tastiera.changePricePercentage(-50)   #diminuisco il prezzo del 50%"
      ],
      "metadata": {
        "colab": {
          "base_uri": "https://localhost:8080/"
        },
        "id": "gu8cWoM-LR6F",
        "outputId": "b67dcd0a-4b19-469d-fa44-7f62c8b8e465"
      },
      "execution_count": null,
      "outputs": [
        {
          "output_type": "execute_result",
          "data": {
            "text/plain": [
              "True"
            ]
          },
          "metadata": {},
          "execution_count": 70
        }
      ]
    },
    {
      "cell_type": "code",
      "source": [
        "print(tastiera.prezzo)"
      ],
      "metadata": {
        "colab": {
          "base_uri": "https://localhost:8080/"
        },
        "id": "Ookg0_QhLWVV",
        "outputId": "de109045-5122-49e5-a2c6-35c99c7beee6"
      },
      "execution_count": null,
      "outputs": [
        {
          "output_type": "stream",
          "name": "stdout",
          "text": [
            "18.375\n"
          ]
        }
      ]
    },
    {
      "cell_type": "code",
      "source": [
        "#creare oggetti con for\n",
        "import random\n",
        "magazzino = []\n",
        "for prodotto in range(20):\n",
        "  magazzino.append(Prodotto(f\"BenQ #{prodotto}\" , round(random.uniform(0, 500), 2), random.randrange(0, 10)))\n",
        "#BenQ #{prodotto} è il nome del prodotto che ha il numero del ciclo;\n",
        "#round(random.uniform(0, 500), 2) è il prezzo decimale genereato casualmente con solo due cifre dopo la virgola con round(..,)\n",
        "#random.randrange(0, 10) è la quantità generata casualmente da 0 a 9"
      ],
      "metadata": {
        "id": "Y2ke1u3aG0Lb"
      },
      "execution_count": null,
      "outputs": []
    },
    {
      "cell_type": "code",
      "source": [
        "#visualizza tutti i prodotti con i lori attributi\n",
        "for prodotto in range(20):\n",
        "  print(magazzino[prodotto].nome, magazzino[prodotto].prezzo, magazzino[prodotto].quantita)"
      ],
      "metadata": {
        "id": "yXB0vXR_IaF0"
      },
      "execution_count": null,
      "outputs": []
    },
    {
      "cell_type": "code",
      "source": [
        "#modifica del prezzo con metodo changePrice\n",
        "if magazzino[5].changePrice(-5):\n",
        "  print(magazzino[5].prezzo)\n",
        "else:\n",
        "  raise ValueError('il prezzo non può andare sotto zero')"
      ],
      "metadata": {
        "id": "8Dn94nvyIz-p"
      },
      "execution_count": null,
      "outputs": []
    },
    {
      "cell_type": "code",
      "source": [
        "#modifica del prezzo con metodo changePricePercentage\n",
        "if magazzino[6].changePricePercentage(-1000):\n",
        "  print(magazzino[6].prezzo)\n",
        "else:\n",
        "  raise ValueError('il prezzo non può andare sotto zero')"
      ],
      "metadata": {
        "id": "ozJveqrZJaHR"
      },
      "execution_count": null,
      "outputs": []
    },
    {
      "cell_type": "markdown",
      "source": [
        "#esercizio biblioteca"
      ],
      "metadata": {
        "id": "uTj4htObNNh1"
      }
    },
    {
      "cell_type": "markdown",
      "source": [
        "1.Crea una classe Libro che abbia gli attributi necessari.\n",
        "\n",
        "2.Implementa un metodo presta che imposta la disponibilità del libro su False quando viene prestato e un metodo restituisci che imposta la disponibilità su True quando viene restituito.\n",
        "\n",
        "3.Crea una classe Biblioteca che gestisca un elenco di libri.\n",
        "\n",
        "4.Implementa un metodo aggiungi_libro nella classe Biblioteca per aggiungere un nuovo libro all'elenco.\n",
        "\n",
        "5.Implementa un metodo cerca_libro nella classe Biblioteca che restituisca le informazioni di un libro dato il suo titolo.\n",
        "\n",
        "6.Aggiungi la possibilità di visualizzare l'elenco completo dei libri disponibili e di quelli prestati."
      ],
      "metadata": {
        "id": "H97NzlStNPg9"
      }
    },
    {
      "cell_type": "code",
      "source": [
        "class Libro:\n",
        "  def __init__(self, titolo, autore, anno):\n",
        "    self.titolo = titolo\n",
        "    self.autore = autore\n",
        "    self.anno = anno\n",
        "    self.disponibile = True\n",
        "\n",
        "  def presta(self):\n",
        "    if self.disponibile:\n",
        "      self.disponibile = False\n",
        "      return True  # Il libro è stato prestato con successo\n",
        "    else:\n",
        "      return False  # Il libro non è disponibile al momento\n",
        "\n",
        "  def restituisci(self):\n",
        "    self.disponibile = True"
      ],
      "metadata": {
        "id": "C3uO4ujJNVZ-"
      },
      "execution_count": null,
      "outputs": []
    },
    {
      "cell_type": "code",
      "source": [
        "libro1 = Libro(\"Lo spleen\", \"Boudlare\", 1869)"
      ],
      "metadata": {
        "id": "BIqmRE7hQfcg"
      },
      "execution_count": null,
      "outputs": []
    },
    {
      "cell_type": "code",
      "source": [
        "libro2 = Libro(\"assassinio di roger ackroyd\", \"Christie\", 1926)"
      ],
      "metadata": {
        "id": "ogVqQYyZSosR"
      },
      "execution_count": null,
      "outputs": []
    },
    {
      "cell_type": "code",
      "source": [
        "class Biblioteca:\n",
        "  def __init__(self):\n",
        "    self.libri = []\n",
        "\n",
        "  def aggiungiLibro(self, libro):\n",
        "    self.libri.append(libro)\n",
        "\n",
        "  def cercaLibro(self, titolo):\n",
        "    for l in self.libri:\n",
        "      if l.titolo == titolo:\n",
        "        return f\"{l.titolo}, {l.autore}, {l.anno}\"\n",
        "    return False\n",
        "\n",
        "  def elencoLibriDisponibili(self):\n",
        "    listaDisponibili = [l.titolo for l in self.libri if l.disponibile == True]\n",
        "    if len(listaDisponibili) > 0:\n",
        "      return listaDisponibili\n",
        "    else:\n",
        "      return False"
      ],
      "metadata": {
        "id": "tN_X2MFPPqXn"
      },
      "execution_count": null,
      "outputs": []
    },
    {
      "cell_type": "code",
      "source": [
        "biblioteca = Biblioteca()"
      ],
      "metadata": {
        "id": "asW8CAnAS3cY"
      },
      "execution_count": null,
      "outputs": []
    },
    {
      "cell_type": "code",
      "source": [
        "biblioteca.aggiungiLibro(libro1)\n",
        "biblioteca.aggiungiLibro(libro2)"
      ],
      "metadata": {
        "id": "4_RNnFfJS6Mg"
      },
      "execution_count": null,
      "outputs": []
    },
    {
      "cell_type": "code",
      "source": [
        "print(biblioteca.elencoLibriDisponibili())"
      ],
      "metadata": {
        "colab": {
          "base_uri": "https://localhost:8080/"
        },
        "id": "-bZYwuQQTBCy",
        "outputId": "4c1b51f4-fab4-449a-a6ea-f0b4b7de41c8"
      },
      "execution_count": null,
      "outputs": [
        {
          "output_type": "stream",
          "name": "stdout",
          "text": [
            "['Lo spleen', 'assassinio di roger ackroyd']\n"
          ]
        }
      ]
    },
    {
      "cell_type": "code",
      "source": [
        "libro1.presta()"
      ],
      "metadata": {
        "id": "fX8q4G-7THHv",
        "colab": {
          "base_uri": "https://localhost:8080/"
        },
        "outputId": "66d81319-c89a-48a6-9937-9fc1085d77b2"
      },
      "execution_count": null,
      "outputs": [
        {
          "output_type": "execute_result",
          "data": {
            "text/plain": [
              "True"
            ]
          },
          "metadata": {},
          "execution_count": 9
        }
      ]
    },
    {
      "cell_type": "code",
      "source": [
        "print(biblioteca.elencoLibriDisponibili())"
      ],
      "metadata": {
        "colab": {
          "base_uri": "https://localhost:8080/"
        },
        "id": "KxQoITqGTKUu",
        "outputId": "ffeb5f61-2095-473d-8c03-0b9a627547df"
      },
      "execution_count": null,
      "outputs": [
        {
          "output_type": "stream",
          "name": "stdout",
          "text": [
            "['assassinio di roger ackroyd']\n"
          ]
        }
      ]
    },
    {
      "cell_type": "code",
      "source": [
        "libro1.restituisci()"
      ],
      "metadata": {
        "id": "zifH62djTOJG"
      },
      "execution_count": null,
      "outputs": []
    },
    {
      "cell_type": "code",
      "source": [
        "print(biblioteca.elencoLibriDisponibili())"
      ],
      "metadata": {
        "colab": {
          "base_uri": "https://localhost:8080/"
        },
        "id": "_xcQfrd1TgGj",
        "outputId": "45ed10dc-a02f-4e66-ee54-0b4b115cac93"
      },
      "execution_count": null,
      "outputs": [
        {
          "output_type": "stream",
          "name": "stdout",
          "text": [
            "['Lo spleen', 'assassinio di roger ackroyd']\n"
          ]
        }
      ]
    },
    {
      "cell_type": "code",
      "source": [
        "libro2.presta()"
      ],
      "metadata": {
        "id": "RMeircs6Tuwy",
        "colab": {
          "base_uri": "https://localhost:8080/"
        },
        "outputId": "7762033d-5c01-40b9-b651-2dff5512aff4"
      },
      "execution_count": null,
      "outputs": [
        {
          "output_type": "execute_result",
          "data": {
            "text/plain": [
              "True"
            ]
          },
          "metadata": {},
          "execution_count": 13
        }
      ]
    },
    {
      "cell_type": "code",
      "source": [
        "print(biblioteca.elencoLibriDisponibili())"
      ],
      "metadata": {
        "colab": {
          "base_uri": "https://localhost:8080/"
        },
        "id": "CdKfTnLfYBCR",
        "outputId": "3b146bea-5d35-47cb-a2e8-0b061b73e33a"
      },
      "execution_count": null,
      "outputs": [
        {
          "output_type": "stream",
          "name": "stdout",
          "text": [
            "['Lo spleen']\n"
          ]
        }
      ]
    },
    {
      "cell_type": "code",
      "source": [
        "libro2.restituisci()"
      ],
      "metadata": {
        "id": "mAriwRCJYCEX"
      },
      "execution_count": null,
      "outputs": []
    },
    {
      "cell_type": "code",
      "source": [
        "print(biblioteca.elencoLibriDisponibili())"
      ],
      "metadata": {
        "colab": {
          "base_uri": "https://localhost:8080/"
        },
        "id": "zVFP3WgXYEfH",
        "outputId": "22679b9d-4faa-40b9-bcf1-ad837523b9cb"
      },
      "execution_count": null,
      "outputs": [
        {
          "output_type": "stream",
          "name": "stdout",
          "text": [
            "['Lo spleen', 'assassinio di roger ackroyd']\n"
          ]
        }
      ]
    },
    {
      "cell_type": "code",
      "source": [
        "print(biblioteca.cercaLibro(\"assassinio di roger ackroyd\"))"
      ],
      "metadata": {
        "colab": {
          "base_uri": "https://localhost:8080/"
        },
        "id": "JyH5wiLVYHsI",
        "outputId": "1741400f-39c0-443f-8db7-79b65fe99c7f"
      },
      "execution_count": null,
      "outputs": [
        {
          "output_type": "stream",
          "name": "stdout",
          "text": [
            "assassinio di roger ackroyd, Christie, 1926\n"
          ]
        }
      ]
    },
    {
      "cell_type": "code",
      "source": [
        "print(biblioteca.cercaLibro(\"ciao\"))"
      ],
      "metadata": {
        "colab": {
          "base_uri": "https://localhost:8080/"
        },
        "id": "yCTaM5gG3yXD",
        "outputId": "dab45c9c-e7d2-44e1-ab0b-8abe1bc18575"
      },
      "execution_count": null,
      "outputs": [
        {
          "output_type": "stream",
          "name": "stdout",
          "text": [
            "False\n"
          ]
        }
      ]
    },
    {
      "cell_type": "markdown",
      "source": [
        "#esercizio biblioteca corretto"
      ],
      "metadata": {
        "id": "Ba-hNRJln7e3"
      }
    },
    {
      "cell_type": "code",
      "source": [
        "#creo classe libro\n",
        "class Libro:\n",
        "  def __init__(self, titolo, autore, annoPubblicazione, disponibilita):\n",
        "    self.titolo = titolo\n",
        "    self.autore = autore\n",
        "    self.annoPubblicazione = annoPubblicazione\n",
        "    self.disponibilita = disponibilita\n",
        "\n",
        "  def modificaDisponibilita(self, numeroCopie):\n",
        "    if self.disponibilita + numeroCopie > 0:\n",
        "      self.disponibilita += numeroCopie\n",
        "      return True\n",
        "    else:\n",
        "      return False"
      ],
      "metadata": {
        "id": "lC-hTez8oE-P"
      },
      "execution_count": null,
      "outputs": []
    },
    {
      "cell_type": "code",
      "source": [
        "#creo il primo libro (oggetto)\n",
        "libro1 = Libro('I Promessi Sposi', 'Alessandro Manzoni', 1825, 10)"
      ],
      "metadata": {
        "id": "BKwDN_Ixpqpb"
      },
      "execution_count": null,
      "outputs": []
    },
    {
      "cell_type": "code",
      "source": [
        "libro2 = Libro('La pioggia nel pineto', \"Gabriele D'Annunzio\", 1902, 5)"
      ],
      "metadata": {
        "id": "raPN_wnvqP6_"
      },
      "execution_count": null,
      "outputs": []
    },
    {
      "cell_type": "code",
      "source": [
        "libro3 = Libro('Candido', 'Voltaire', 1732, 8)"
      ],
      "metadata": {
        "id": "O42zkPyNYmwj"
      },
      "execution_count": null,
      "outputs": []
    },
    {
      "cell_type": "code",
      "source": [
        "#visualizzo info libro1\n",
        "print(f\"Titolo: {libro1.titolo}, Autore: {libro1.autore}, Anno: {libro1.annoPubblicazione}, Copie: {libro1.disponibilita}\")"
      ],
      "metadata": {
        "colab": {
          "base_uri": "https://localhost:8080/"
        },
        "id": "23yBaFpKqqlg",
        "outputId": "f1bf0cba-db58-4969-d9dc-019839792a4d"
      },
      "execution_count": null,
      "outputs": [
        {
          "output_type": "stream",
          "name": "stdout",
          "text": [
            "Titolo: I Promessi Sposi, Autore: Alessandro Manzoni, Anno: 1825, Copie: 10\n"
          ]
        }
      ]
    },
    {
      "cell_type": "code",
      "source": [
        "libro2.modificaDisponibilita(100)"
      ],
      "metadata": {
        "colab": {
          "base_uri": "https://localhost:8080/"
        },
        "id": "e77rqky3rN1n",
        "outputId": "bcdf17e0-90be-45c6-d950-6129c0b52fbd"
      },
      "execution_count": null,
      "outputs": [
        {
          "output_type": "execute_result",
          "data": {
            "text/plain": [
              "True"
            ]
          },
          "metadata": {},
          "execution_count": 4
        }
      ]
    },
    {
      "cell_type": "code",
      "source": [
        "print(f\"Titolo: {libro2.titolo}, Autore: {libro2.autore}, Anno: {libro2.annoPubblicazione}, Copie: {libro2.disponibilita}\")"
      ],
      "metadata": {
        "colab": {
          "base_uri": "https://localhost:8080/"
        },
        "id": "E6PLAoAargwq",
        "outputId": "503c94be-0cce-4c1d-c90b-08cc3d6d22bf"
      },
      "execution_count": null,
      "outputs": [
        {
          "output_type": "stream",
          "name": "stdout",
          "text": [
            "Titolo: La pioggia nel pineto, Autore: Gabriele D'Annunzio, Anno: 1902, Copie: 105\n"
          ]
        }
      ]
    },
    {
      "cell_type": "code",
      "source": [
        "libro2.modificaDisponibilita(-200)"
      ],
      "metadata": {
        "colab": {
          "base_uri": "https://localhost:8080/"
        },
        "id": "18T5mZyrrty7",
        "outputId": "cb628ace-c77f-4873-aeb7-4cbbb218f3d1"
      },
      "execution_count": null,
      "outputs": [
        {
          "output_type": "execute_result",
          "data": {
            "text/plain": [
              "False"
            ]
          },
          "metadata": {},
          "execution_count": 6
        }
      ]
    },
    {
      "cell_type": "code",
      "source": [
        "#creo classe utente\n",
        "class Utente:\n",
        "  def __init__(self, nome, cognome):\n",
        "    self.nome = nome\n",
        "    self.cognome = cognome\n",
        "    self.listaLibriPrestito = []\n",
        "\n",
        "  def prendiLibro(self, libro):\n",
        "    if len(self.listaLibriPrestito) < 100:\n",
        "      self.listaLibriPrestito.append(libro)\n",
        "      return True\n",
        "    else:\n",
        "      return False\n",
        "\n",
        "  def restituisciLibro(self, libro):\n",
        "    if libro in self.listaLibriPrestito:\n",
        "      self.listaLibriPrestito.remove(libro)\n",
        "      return True\n",
        "    else:\n",
        "      return False"
      ],
      "metadata": {
        "id": "JhE3aZWZtI1C"
      },
      "execution_count": null,
      "outputs": []
    },
    {
      "cell_type": "code",
      "source": [
        "#creo utente1\n",
        "utente1 = Utente('Andrea', 'Geremicca')"
      ],
      "metadata": {
        "id": "c2rm0tXJxN6C"
      },
      "execution_count": null,
      "outputs": []
    },
    {
      "cell_type": "code",
      "source": [
        "utente1.listaLibriPrestito  #mostra la lista: il contenuto sono oggetti"
      ],
      "metadata": {
        "colab": {
          "base_uri": "https://localhost:8080/"
        },
        "id": "2-kK7UM-xZB4",
        "outputId": "2e561b6c-328d-4168-e965-1ee91da3f1f3"
      },
      "execution_count": null,
      "outputs": [
        {
          "output_type": "execute_result",
          "data": {
            "text/plain": [
              "[<__main__.Libro at 0x7f067e710ca0>, <__main__.Libro at 0x7f067e710a90>]"
            ]
          },
          "metadata": {},
          "execution_count": 11
        }
      ]
    },
    {
      "cell_type": "code",
      "source": [
        "utente1.prendiLibro(libro1)"
      ],
      "metadata": {
        "colab": {
          "base_uri": "https://localhost:8080/"
        },
        "id": "3UWb-6U1xfWI",
        "outputId": "555af00a-5332-4b45-fbdf-622bd8708ad3"
      },
      "execution_count": null,
      "outputs": [
        {
          "output_type": "execute_result",
          "data": {
            "text/plain": [
              "True"
            ]
          },
          "metadata": {},
          "execution_count": 9
        }
      ]
    },
    {
      "cell_type": "code",
      "source": [
        "utente1.prendiLibro(libro2)"
      ],
      "metadata": {
        "colab": {
          "base_uri": "https://localhost:8080/"
        },
        "id": "tIJccGI8x1Zb",
        "outputId": "33db7080-1c1f-421f-b1b3-c879345ff246"
      },
      "execution_count": null,
      "outputs": [
        {
          "output_type": "execute_result",
          "data": {
            "text/plain": [
              "True"
            ]
          },
          "metadata": {},
          "execution_count": 10
        }
      ]
    },
    {
      "cell_type": "code",
      "source": [
        "#titoli dei libri di gere\n",
        "for libro in utente1.listaLibriPrestito:\n",
        "  print(libro.titolo)"
      ],
      "metadata": {
        "colab": {
          "base_uri": "https://localhost:8080/"
        },
        "id": "S9hdtA0ex-Wj",
        "outputId": "9c9f20b5-94ba-4c07-e307-d025e074c121"
      },
      "execution_count": null,
      "outputs": [
        {
          "output_type": "stream",
          "name": "stdout",
          "text": [
            "I Promessi Sposi\n",
            "La pioggia nel pineto\n"
          ]
        }
      ]
    },
    {
      "cell_type": "code",
      "source": [
        "utente2 = Utente('Riccardo', 'Lotorto')"
      ],
      "metadata": {
        "id": "nfT-Nk9lXsNM"
      },
      "execution_count": null,
      "outputs": []
    },
    {
      "cell_type": "code",
      "source": [
        "#creo classe biblioteca\n",
        "class Biblioteca:\n",
        "  def __init__(self):\n",
        "    self.elencoLibri = []\n",
        "    self.elencoUtenti = []\n",
        "\n",
        "  def aggiuntaLibro(self, libro):\n",
        "    self.elencoLibri.append(libro)\n",
        "    return True\n",
        "\n",
        "  def rimozioneLibro(self, libro):\n",
        "    if libro in self.elencoLibri:\n",
        "      self.elencoLibri.remove(libro)\n",
        "      return True\n",
        "    else:\n",
        "      return False\n",
        "\n",
        "  def prestito(self, libro, utente):\n",
        "    utente.listaLibriPrestito.append(libro)\n",
        "    return True\n",
        "\n",
        "  def restituzione(self, libro, utente):\n",
        "    if libro in utente.listaLibriPrestito:\n",
        "      utente.listaLibriPrestito.remove(libro)\n",
        "      return True\n",
        "    else:\n",
        "      return False\n",
        "\n",
        "  def aggiuntaUtente(self, utente):\n",
        "    self.elencoUtenti.append(utente)\n",
        "    return True\n",
        "\n",
        "  def rimozioneUtente(self, utente):\n",
        "    if utente in self.elencoUtenti:\n",
        "      self.elencoUtenti.remove(utente)\n",
        "      return True\n",
        "    else:\n",
        "      return False"
      ],
      "metadata": {
        "id": "SriUOKTDykkx"
      },
      "execution_count": null,
      "outputs": []
    },
    {
      "cell_type": "code",
      "source": [
        "#creo biblioteca1\n",
        "biblioteca1 = Biblioteca()"
      ],
      "metadata": {
        "id": "z6V7AsClz8UX"
      },
      "execution_count": null,
      "outputs": []
    },
    {
      "cell_type": "code",
      "source": [
        "biblioteca1.aggiuntaLibro(libro1)"
      ],
      "metadata": {
        "colab": {
          "base_uri": "https://localhost:8080/"
        },
        "id": "be_DtChI0Bnf",
        "outputId": "64373e42-baed-4f28-b267-70bfaaf2c36c"
      },
      "execution_count": null,
      "outputs": [
        {
          "output_type": "execute_result",
          "data": {
            "text/plain": [
              "True"
            ]
          },
          "metadata": {},
          "execution_count": 18
        }
      ]
    },
    {
      "cell_type": "code",
      "source": [
        "biblioteca1.aggiuntaLibro(libro2)"
      ],
      "metadata": {
        "colab": {
          "base_uri": "https://localhost:8080/"
        },
        "id": "vjPTez_W0Hy6",
        "outputId": "fb603277-563b-480f-e7d9-bed4860b2c99"
      },
      "execution_count": null,
      "outputs": [
        {
          "output_type": "execute_result",
          "data": {
            "text/plain": [
              "True"
            ]
          },
          "metadata": {},
          "execution_count": 16
        }
      ]
    },
    {
      "cell_type": "code",
      "source": [
        "print(biblioteca1.elencoLibri)"
      ],
      "metadata": {
        "colab": {
          "base_uri": "https://localhost:8080/"
        },
        "id": "4YB_HSkT0J8t",
        "outputId": "297f7e0b-5fcd-4b93-974f-a587a2d546be"
      },
      "execution_count": null,
      "outputs": [
        {
          "output_type": "stream",
          "name": "stdout",
          "text": [
            "[<__main__.Libro object at 0x7f067e710a90>, <__main__.Libro object at 0x7f067e710ca0>]\n"
          ]
        }
      ]
    },
    {
      "cell_type": "code",
      "source": [
        "biblioteca1.rimozioneLibro(libro1)"
      ],
      "metadata": {
        "colab": {
          "base_uri": "https://localhost:8080/"
        },
        "id": "YY13rpLu0Y_A",
        "outputId": "3e7fdb14-2cc8-4fe3-c846-c7e7a21d0ccc"
      },
      "execution_count": null,
      "outputs": [
        {
          "output_type": "execute_result",
          "data": {
            "text/plain": [
              "True"
            ]
          },
          "metadata": {},
          "execution_count": 20
        }
      ]
    },
    {
      "cell_type": "code",
      "source": [
        "for libro in biblioteca1.elencoLibri:\n",
        "  print(libro.titolo, libro.disponibilita)"
      ],
      "metadata": {
        "colab": {
          "base_uri": "https://localhost:8080/"
        },
        "id": "J5z94ZV50kEY",
        "outputId": "729a8175-020e-49fa-fdae-7977b32e420a"
      },
      "execution_count": null,
      "outputs": [
        {
          "output_type": "stream",
          "name": "stdout",
          "text": [
            "La pioggia nel pineto 105\n",
            "I Promessi Sposi 10\n"
          ]
        }
      ]
    },
    {
      "cell_type": "code",
      "source": [
        "libro1.titolo #salva i dati anche se eliminiamo il libro dalla biblioteca"
      ],
      "metadata": {
        "colab": {
          "base_uri": "https://localhost:8080/",
          "height": 35
        },
        "id": "7LgRVTU61oC3",
        "outputId": "6b4e8966-f58f-4795-caa9-16c21f504173"
      },
      "execution_count": null,
      "outputs": [
        {
          "output_type": "execute_result",
          "data": {
            "text/plain": [
              "'I Promessi Sposi'"
            ],
            "application/vnd.google.colaboratory.intrinsic+json": {
              "type": "string"
            }
          },
          "metadata": {},
          "execution_count": 32
        }
      ]
    },
    {
      "cell_type": "code",
      "source": [
        "biblioteca1.prestito(libro1, utente2)"
      ],
      "metadata": {
        "colab": {
          "base_uri": "https://localhost:8080/"
        },
        "id": "GvR4rKtkX_RI",
        "outputId": "972f2e5e-74a5-410a-c374-03560ef1f860"
      },
      "execution_count": null,
      "outputs": [
        {
          "output_type": "execute_result",
          "data": {
            "text/plain": [
              "True"
            ]
          },
          "metadata": {},
          "execution_count": 23
        }
      ]
    },
    {
      "cell_type": "code",
      "source": [
        "utente2.listaLibriPrestito"
      ],
      "metadata": {
        "colab": {
          "base_uri": "https://localhost:8080/"
        },
        "id": "Isj_9ArpYI_j",
        "outputId": "f98c6577-313f-4055-cb7c-d3846176bbeb"
      },
      "execution_count": null,
      "outputs": [
        {
          "output_type": "execute_result",
          "data": {
            "text/plain": [
              "[]"
            ]
          },
          "metadata": {},
          "execution_count": 32
        }
      ]
    },
    {
      "cell_type": "code",
      "source": [
        "for l in utente2.listaLibriPrestito:\n",
        "  print(l.titolo)"
      ],
      "metadata": {
        "id": "dRtc90I_YLea"
      },
      "execution_count": null,
      "outputs": []
    },
    {
      "cell_type": "code",
      "source": [
        "biblioteca1.restituzione(libro3, utente2)"
      ],
      "metadata": {
        "colab": {
          "base_uri": "https://localhost:8080/"
        },
        "id": "Mfi3NfYLYUAC",
        "outputId": "b5ba7b3a-5234-461f-b1e3-f63d0423b60b"
      },
      "execution_count": null,
      "outputs": [
        {
          "output_type": "execute_result",
          "data": {
            "text/plain": [
              "False"
            ]
          },
          "metadata": {},
          "execution_count": 29
        }
      ]
    },
    {
      "cell_type": "code",
      "source": [
        "biblioteca1.restituzione(libro1, utente2)"
      ],
      "metadata": {
        "colab": {
          "base_uri": "https://localhost:8080/"
        },
        "id": "yzbBHpGOY-f-",
        "outputId": "5e7e19ab-49e4-44b7-dd69-984f0b44db4a"
      },
      "execution_count": null,
      "outputs": [
        {
          "output_type": "execute_result",
          "data": {
            "text/plain": [
              "True"
            ]
          },
          "metadata": {},
          "execution_count": 30
        }
      ]
    },
    {
      "cell_type": "code",
      "source": [
        "biblioteca1.aggiuntaUtente(utente1)\n",
        "biblioteca1.aggiuntaUtente(utente2)"
      ],
      "metadata": {
        "colab": {
          "base_uri": "https://localhost:8080/"
        },
        "id": "qhpAOYWSZOcK",
        "outputId": "00e5f738-b2ab-44f8-f6d7-9f964085ef6c"
      },
      "execution_count": null,
      "outputs": [
        {
          "output_type": "execute_result",
          "data": {
            "text/plain": [
              "True"
            ]
          },
          "metadata": {},
          "execution_count": 33
        }
      ]
    },
    {
      "cell_type": "code",
      "source": [
        "for ut in biblioteca1.elencoUtenti:\n",
        "  print(ut.nome, ut.cognome)"
      ],
      "metadata": {
        "colab": {
          "base_uri": "https://localhost:8080/"
        },
        "id": "HNBllPVGZZSW",
        "outputId": "1466f209-2b4b-4e44-91f7-7577bf5e25b8"
      },
      "execution_count": null,
      "outputs": [
        {
          "output_type": "stream",
          "name": "stdout",
          "text": [
            "Riccardo Lotorto\n"
          ]
        }
      ]
    },
    {
      "cell_type": "code",
      "source": [
        "biblioteca1.rimozioneUtente(utente1)"
      ],
      "metadata": {
        "colab": {
          "base_uri": "https://localhost:8080/"
        },
        "id": "J-bwLJgUZiqm",
        "outputId": "10033be8-3896-4ae6-f8ba-c12dc19cae75"
      },
      "execution_count": null,
      "outputs": [
        {
          "output_type": "execute_result",
          "data": {
            "text/plain": [
              "True"
            ]
          },
          "metadata": {},
          "execution_count": 35
        }
      ]
    },
    {
      "cell_type": "markdown",
      "source": [
        "#esercizio banca"
      ],
      "metadata": {
        "id": "LM-Yz63rRXii"
      }
    },
    {
      "cell_type": "code",
      "source": [
        "\"\"\"\n",
        "1.Crea una classe ContoBancario con gli attributi privati __saldo, __titolare, e __numero_conto.\n",
        "2.Implementa dei metodi per depositare denaro nel conto, prelevare denaro e controllare il saldo.\n",
        "3.Assicurati che il saldo non possa essere modificato direttamente dall'esterno della classe.\n",
        "4.Implementa un metodo per visualizzare le informazioni del conto bancario (titolare, numero di conto e saldo).\n",
        "5.Testa il sistema con operazioni di deposito e prelievo.\n",
        "\"\"\"\n",
        "class ContoBancario:\n",
        "  def __init__(self, saldo, titolare, numeroConto):\n",
        "    self.__saldo = saldo\n",
        "    self.__titolare = titolare\n",
        "    self.__numeroConto = numeroConto\n",
        "\n",
        "  def getSaldo(self):\n",
        "    return self.__saldo\n",
        "\n",
        "  def getTitolare(self):\n",
        "    return self.__titolare\n",
        "\n",
        "  def getNumeroConto(self):\n",
        "    return self.__numeroConto\n",
        "\n",
        "  def setSaldo(self, saldo):\n",
        "    self.__saldo = saldo\n",
        "\n",
        "  def setTitolare(self, titolare):\n",
        "    self.__titolare = titolare\n",
        "\n",
        "  def setNumeroConto(self, numeroconto):\n",
        "    self.__numeroConto = numeroconto\n",
        "\n",
        "  def deposito(self, denaroDepositato):\n",
        "    self.__saldo += denaroDepositato\n",
        "    return True\n",
        "\n",
        "  def prelievo(self, denaroPrelevato):\n",
        "    if self.__saldo + denaroPrelevato > 0:   #il saldo non può andare sotto zero\n",
        "      self.__saldo += denaroPrelevato\n",
        "      return True\n",
        "    else:\n",
        "      return False\n",
        "\n",
        "  def visualizzaInformazioni(self):\n",
        "    return f\"Saldo: {self.__saldo}, titolare: {self.__titolare}, numeroConto: {self.__numeroConto}\""
      ],
      "metadata": {
        "id": "TF2_wv8iRcBn"
      },
      "execution_count": null,
      "outputs": []
    },
    {
      "cell_type": "code",
      "source": [
        "conto1 = ContoBancario(1000, \"Gianmaria\", 1)"
      ],
      "metadata": {
        "id": "DLjo6czwZa6K"
      },
      "execution_count": null,
      "outputs": []
    },
    {
      "cell_type": "code",
      "source": [
        "conto1.getSaldo()"
      ],
      "metadata": {
        "colab": {
          "base_uri": "https://localhost:8080/"
        },
        "id": "QIxgD8aIb8BS",
        "outputId": "3acde8c6-045a-453b-d166-d2b68178cae5"
      },
      "execution_count": null,
      "outputs": [
        {
          "output_type": "execute_result",
          "data": {
            "text/plain": [
              "1000"
            ]
          },
          "metadata": {},
          "execution_count": 3
        }
      ]
    },
    {
      "cell_type": "code",
      "source": [
        "conto1.getTitolare()"
      ],
      "metadata": {
        "colab": {
          "base_uri": "https://localhost:8080/",
          "height": 36
        },
        "id": "8Yv2OPTkcAG4",
        "outputId": "0debf139-983a-4d83-be25-62f2f1f468b8"
      },
      "execution_count": null,
      "outputs": [
        {
          "output_type": "execute_result",
          "data": {
            "text/plain": [
              "'Gianmaria'"
            ],
            "application/vnd.google.colaboratory.intrinsic+json": {
              "type": "string"
            }
          },
          "metadata": {},
          "execution_count": 4
        }
      ]
    },
    {
      "cell_type": "code",
      "source": [
        "conto1.getNumeroConto()"
      ],
      "metadata": {
        "colab": {
          "base_uri": "https://localhost:8080/"
        },
        "id": "4kxF_O_LcFd1",
        "outputId": "f1013e8f-c471-41e5-d665-27a3fa62b14b"
      },
      "execution_count": null,
      "outputs": [
        {
          "output_type": "execute_result",
          "data": {
            "text/plain": [
              "1"
            ]
          },
          "metadata": {},
          "execution_count": 5
        }
      ]
    },
    {
      "cell_type": "code",
      "source": [
        "conto1.deposito(2000)"
      ],
      "metadata": {
        "colab": {
          "base_uri": "https://localhost:8080/"
        },
        "id": "ndHEGyhZcKKV",
        "outputId": "3d24682f-2caa-468c-f001-06c2211c9e5f"
      },
      "execution_count": null,
      "outputs": [
        {
          "output_type": "execute_result",
          "data": {
            "text/plain": [
              "True"
            ]
          },
          "metadata": {},
          "execution_count": 13
        }
      ]
    },
    {
      "cell_type": "code",
      "source": [
        "conto1.visualizzaInformazioni()"
      ],
      "metadata": {
        "colab": {
          "base_uri": "https://localhost:8080/",
          "height": 36
        },
        "id": "dBv02TqwcOHs",
        "outputId": "b97d6e75-2815-4945-b7f1-134100a881b9"
      },
      "execution_count": null,
      "outputs": [
        {
          "output_type": "execute_result",
          "data": {
            "text/plain": [
              "'Saldo: 2300, titolare: Gianmaria, numeroConto: 1'"
            ],
            "application/vnd.google.colaboratory.intrinsic+json": {
              "type": "string"
            }
          },
          "metadata": {},
          "execution_count": 16
        }
      ]
    },
    {
      "cell_type": "code",
      "source": [
        "conto1.prelievo(-700)"
      ],
      "metadata": {
        "colab": {
          "base_uri": "https://localhost:8080/"
        },
        "id": "Bix9R9T-cQ0B",
        "outputId": "d0f09a79-a626-4b73-ab57-496b953d13e2"
      },
      "execution_count": null,
      "outputs": [
        {
          "output_type": "execute_result",
          "data": {
            "text/plain": [
              "True"
            ]
          },
          "metadata": {},
          "execution_count": 15
        }
      ]
    },
    {
      "cell_type": "markdown",
      "source": [
        "#esercizio ereditarietà"
      ],
      "metadata": {
        "id": "crWwcIRUeWAE"
      }
    },
    {
      "cell_type": "code",
      "source": [
        "class Auto:\n",
        "  def __init__(self, marca, modello):\n",
        "    self.__marca = marca\n",
        "    self.modello = modello\n",
        "\n",
        "  def getMarca(self):\n",
        "    return self.__marca\n",
        "\n",
        "  def setMarca(self, marca):\n",
        "    self.__marca = marca\n",
        "\n",
        "  def info(self):\n",
        "    return f\"Marca: {self.__marca}, Modello: {self.modello}\""
      ],
      "metadata": {
        "id": "AoPWCRZreYJ3"
      },
      "execution_count": null,
      "outputs": []
    },
    {
      "cell_type": "code",
      "source": [
        "class Furgone(Auto):\n",
        "  def __init__(self, marca, modello, capacita):\n",
        "    super().__init__(marca, modello)\n",
        "    self.capacita = capacita\n",
        "\n",
        "  def info(self):\n",
        "    return f\"Marca: {self.getMarca()}, modello: {self.modello}, capacità: {self.capacita}\""
      ],
      "metadata": {
        "id": "2ziFwxe9fsuq"
      },
      "execution_count": null,
      "outputs": []
    },
    {
      "cell_type": "code",
      "source": [
        "auto1 = Auto(\"Porsche\", \"Cayman\")"
      ],
      "metadata": {
        "id": "MqcCF2t9gUlq"
      },
      "execution_count": null,
      "outputs": []
    },
    {
      "cell_type": "code",
      "source": [
        "auto1.getMarca()"
      ],
      "metadata": {
        "colab": {
          "base_uri": "https://localhost:8080/",
          "height": 36
        },
        "id": "e70pcc-1gZPl",
        "outputId": "b1390ca0-39c3-4501-a24e-72e5e10811ff"
      },
      "execution_count": null,
      "outputs": [
        {
          "output_type": "execute_result",
          "data": {
            "text/plain": [
              "'Porsche'"
            ],
            "application/vnd.google.colaboratory.intrinsic+json": {
              "type": "string"
            }
          },
          "metadata": {},
          "execution_count": 20
        }
      ]
    },
    {
      "cell_type": "code",
      "source": [
        "auto1.info()"
      ],
      "metadata": {
        "colab": {
          "base_uri": "https://localhost:8080/",
          "height": 36
        },
        "id": "MZLcwbdCgboC",
        "outputId": "dc7ec86b-cb49-4905-cf9b-0abfb02610fa"
      },
      "execution_count": null,
      "outputs": [
        {
          "output_type": "execute_result",
          "data": {
            "text/plain": [
              "'Marca: Porsche, Modello: Cayman'"
            ],
            "application/vnd.google.colaboratory.intrinsic+json": {
              "type": "string"
            }
          },
          "metadata": {},
          "execution_count": 21
        }
      ]
    },
    {
      "cell_type": "code",
      "source": [
        "furgone1 = Furgone(\"Fiat\", \"456\", 9)"
      ],
      "metadata": {
        "id": "NZrlEATqhMpl"
      },
      "execution_count": null,
      "outputs": []
    },
    {
      "cell_type": "code",
      "source": [
        "furgone1.getMarca()"
      ],
      "metadata": {
        "colab": {
          "base_uri": "https://localhost:8080/",
          "height": 36
        },
        "id": "WnJ-WUJehWN1",
        "outputId": "7a9993be-6594-4193-c873-2503146d2d7b"
      },
      "execution_count": null,
      "outputs": [
        {
          "output_type": "execute_result",
          "data": {
            "text/plain": [
              "'Fiat'"
            ],
            "application/vnd.google.colaboratory.intrinsic+json": {
              "type": "string"
            }
          },
          "metadata": {},
          "execution_count": 23
        }
      ]
    },
    {
      "cell_type": "code",
      "source": [
        "furgone1.info()"
      ],
      "metadata": {
        "colab": {
          "base_uri": "https://localhost:8080/",
          "height": 36
        },
        "id": "LHleDYvjha26",
        "outputId": "24126d45-512e-4f05-e434-cd49b0bdb0aa"
      },
      "execution_count": null,
      "outputs": [
        {
          "output_type": "execute_result",
          "data": {
            "text/plain": [
              "'Marca: Fiat, modello: 456, capacità: 9'"
            ],
            "application/vnd.google.colaboratory.intrinsic+json": {
              "type": "string"
            }
          },
          "metadata": {},
          "execution_count": 24
        }
      ]
    },
    {
      "cell_type": "markdown",
      "source": [
        "#esercizio per verifica"
      ],
      "metadata": {
        "id": "OT6A2qCplLi7"
      }
    },
    {
      "cell_type": "code",
      "source": [
        "class Citta:\n",
        "  def __init__(self, abitanti, area):\n",
        "    self.__abitanti = abitanti\n",
        "    self.area = area\n",
        "\n",
        "  def getAbitanti(self):\n",
        "    return self.__abitanti\n",
        "\n",
        "  def setAbitanti(self, abitanti):\n",
        "    self.__abitanti = abitanti\n",
        "\n",
        "  def controlla(self):\n",
        "    if self.__abitanti > 25000:\n",
        "      return 1\n",
        "    else:\n",
        "      return 0\n",
        "\n",
        "  def aggiuntaAbitanti(self, nuoviAbitanti):\n",
        "    self.__abitanti += nuoviAbitanti\n",
        "    return True\n",
        "\n",
        "  def rimozioneAbitanti(self, vecchiAbitanti):\n",
        "    if self.__abitanti + vecchiAbitanti > 0:\n",
        "      self.__abitanti += vecchiAbitanti\n",
        "      return True\n",
        "    else:\n",
        "      return False\n"
      ],
      "metadata": {
        "id": "H02tve35lYu5"
      },
      "execution_count": null,
      "outputs": []
    },
    {
      "cell_type": "code",
      "source": [
        "milano = Citta(1300000, 182)"
      ],
      "metadata": {
        "id": "W7h1vE-NoMOl"
      },
      "execution_count": null,
      "outputs": []
    },
    {
      "cell_type": "code",
      "source": [
        "milano.getAbitanti()"
      ],
      "metadata": {
        "colab": {
          "base_uri": "https://localhost:8080/"
        },
        "id": "on4blN1HocmZ",
        "outputId": "56482025-7cfc-4835-c29b-470621df39a7"
      },
      "execution_count": null,
      "outputs": [
        {
          "output_type": "execute_result",
          "data": {
            "text/plain": [
              "1302500"
            ]
          },
          "metadata": {},
          "execution_count": 9
        }
      ]
    },
    {
      "cell_type": "code",
      "source": [
        "milano.area"
      ],
      "metadata": {
        "colab": {
          "base_uri": "https://localhost:8080/"
        },
        "id": "wZ4gjAiWoyvA",
        "outputId": "29a69571-e07f-41cb-ddab-0ae5d9df9d53"
      },
      "execution_count": null,
      "outputs": [
        {
          "output_type": "execute_result",
          "data": {
            "text/plain": [
              "182"
            ]
          },
          "metadata": {},
          "execution_count": 6
        }
      ]
    },
    {
      "cell_type": "code",
      "source": [
        "milano.controlla()"
      ],
      "metadata": {
        "colab": {
          "base_uri": "https://localhost:8080/"
        },
        "id": "NKyl2PEeo0gL",
        "outputId": "7a656675-2f50-40a0-f59c-7093a2ba7406"
      },
      "execution_count": null,
      "outputs": [
        {
          "output_type": "execute_result",
          "data": {
            "text/plain": [
              "1"
            ]
          },
          "metadata": {},
          "execution_count": 7
        }
      ]
    },
    {
      "cell_type": "code",
      "source": [
        "milano.aggiuntaAbitanti(2500)"
      ],
      "metadata": {
        "colab": {
          "base_uri": "https://localhost:8080/"
        },
        "id": "IahYjiyOo7nf",
        "outputId": "f9840299-176d-431f-cda8-a25f123b5d26"
      },
      "execution_count": null,
      "outputs": [
        {
          "output_type": "execute_result",
          "data": {
            "text/plain": [
              "True"
            ]
          },
          "metadata": {},
          "execution_count": 8
        }
      ]
    },
    {
      "cell_type": "code",
      "source": [
        "milano.rimozioneAbitanti(-3000000)"
      ],
      "metadata": {
        "colab": {
          "base_uri": "https://localhost:8080/"
        },
        "id": "752FPmi-pfSm",
        "outputId": "d0a8cf81-fb46-488a-d6b7-7daced0c7113"
      },
      "execution_count": null,
      "outputs": [
        {
          "output_type": "execute_result",
          "data": {
            "text/plain": [
              "False"
            ]
          },
          "metadata": {},
          "execution_count": 10
        }
      ]
    },
    {
      "cell_type": "code",
      "source": [
        "class Regione(Citta):\n",
        "  def __init__(self, abitanti, area, posizione):\n",
        "    super().__init__(abitanti, area)\n",
        "    self.posizione = posizione\n",
        "\n",
        "  def controlla(self):\n",
        "    if self.getAbitanti() > 1000000:\n",
        "      return 1\n",
        "    else:\n",
        "      return 0"
      ],
      "metadata": {
        "id": "Q2o_8uW3pjRb"
      },
      "execution_count": null,
      "outputs": []
    },
    {
      "cell_type": "code",
      "source": [
        "lombardia = Regione(10000000, 2000, 'nord')"
      ],
      "metadata": {
        "id": "34vu56KFr-sP"
      },
      "execution_count": null,
      "outputs": []
    },
    {
      "cell_type": "code",
      "source": [
        "lombardia.getAbitanti()"
      ],
      "metadata": {
        "colab": {
          "base_uri": "https://localhost:8080/"
        },
        "id": "3fyxZLrRsFP1",
        "outputId": "39984b4b-1ba7-4ca2-db5f-ae27659effa7"
      },
      "execution_count": null,
      "outputs": [
        {
          "output_type": "execute_result",
          "data": {
            "text/plain": [
              "9999900"
            ]
          },
          "metadata": {},
          "execution_count": 18
        }
      ]
    },
    {
      "cell_type": "code",
      "source": [
        "lombardia.posizione"
      ],
      "metadata": {
        "colab": {
          "base_uri": "https://localhost:8080/",
          "height": 36
        },
        "id": "hq2W2uU_sNDk",
        "outputId": "6cfe4c67-e83e-48db-ba35-0f1748952a38"
      },
      "execution_count": null,
      "outputs": [
        {
          "output_type": "execute_result",
          "data": {
            "text/plain": [
              "'nord'"
            ],
            "application/vnd.google.colaboratory.intrinsic+json": {
              "type": "string"
            }
          },
          "metadata": {},
          "execution_count": 14
        }
      ]
    },
    {
      "cell_type": "code",
      "source": [
        "lombardia.aggiuntaAbitanti(800)"
      ],
      "metadata": {
        "colab": {
          "base_uri": "https://localhost:8080/"
        },
        "id": "M7HEFSjssQ3f",
        "outputId": "15ae0241-f6b3-4991-d0b2-284b4a3053b0"
      },
      "execution_count": null,
      "outputs": [
        {
          "output_type": "execute_result",
          "data": {
            "text/plain": [
              "True"
            ]
          },
          "metadata": {},
          "execution_count": 15
        }
      ]
    },
    {
      "cell_type": "code",
      "source": [
        "lombardia.rimozioneAbitanti(-900)"
      ],
      "metadata": {
        "colab": {
          "base_uri": "https://localhost:8080/"
        },
        "id": "T8AUP8Tvsqom",
        "outputId": "8764d721-450b-455c-ec15-b649d8b8f70d"
      },
      "execution_count": null,
      "outputs": [
        {
          "output_type": "execute_result",
          "data": {
            "text/plain": [
              "True"
            ]
          },
          "metadata": {},
          "execution_count": 17
        }
      ]
    },
    {
      "cell_type": "markdown",
      "source": [
        "#esercizio per verifica"
      ],
      "metadata": {
        "id": "nPkyVvvCo9Ij"
      }
    },
    {
      "cell_type": "code",
      "source": [
        "\"\"\"\n",
        "1.Crea una classe ProdottoElettronico che rappresenti un prodotto elettronico con attributi come nome, marca, prezzo e quantità disponibile.\n",
        "2.Implementa un metodo per aggiungere nuovi prodotti al magazzino e un altro metodo per rimuovere prodotti quando vengono acquistati.\n",
        "3.Crea una classe Transazione che rappresenti una transazione effettuata da un cliente, contenente informazioni come il cliente, i prodotti acquistati e il totale della spesa.\n",
        "4.Implementa un metodo per effettuare una transazione, che aggiorna il magazzino sottraendo la quantità acquistata e registra la transazione.\n",
        "5.Aggiungi la funzionalità di calcolare il totale delle vendite del negozio.\n",
        "6.Implementa un metodo per visualizzare l'elenco dei prodotti disponibili e un altro per visualizzare lo storico delle transazioni.\n",
        "\"\"\""
      ],
      "metadata": {
        "id": "cNf9pOptpDy2"
      },
      "execution_count": null,
      "outputs": []
    },
    {
      "cell_type": "code",
      "source": [
        "class ProdottoElettronico:\n",
        "  def __init__(self, nome, marca, prezzo, quantita):\n",
        "    self.nome = nome\n",
        "    self.marca = marca\n",
        "    self.prezzo = prezzo\n",
        "    self.quantita = quantita\n",
        "\n",
        "  def aggiuntaProdotto(self, quantita):\n",
        "      self.quantita += quantita\n",
        "\n",
        "  def rimozioneProdotto(self, quantita):\n",
        "    if quantita <= self.quantita:\n",
        "      self.quantita -= quantita\n",
        "      return True\n",
        "    else:\n",
        "      return False"
      ],
      "metadata": {
        "id": "5j6AXQzLp7_r"
      },
      "execution_count": null,
      "outputs": []
    },
    {
      "cell_type": "code",
      "source": [
        "class Transizione:\n",
        "  def __init__(self, cliente, prodotti, spesa):\n",
        "    self.cliente = cliente\n",
        "    self.prodotti = []\n",
        "    self.spesa = 0\n",
        "\n",
        "  def aggiungiProdotto(self, prodotto, quantita):\n",
        "    self.prodotti.append((prodotto, quantita))\n",
        "    self.spesa += prodotto.prezzo * quantita\n",
        "\n",
        "  def eseguiTransizione(self):\n",
        "    for prodotto, quantita in self.prodotti:\n",
        "      prodotto.rimozioneProdotto(quantita)"
      ],
      "metadata": {
        "id": "6BCNzZHmrFHg"
      },
      "execution_count": null,
      "outputs": []
    },
    {
      "cell_type": "code",
      "source": [
        "class Negozio:\n",
        "  def __init__(self, nome):\n",
        "    self.nome = nome\n",
        "    self.magazzino = []\n",
        "\n",
        "  def aggiungiProdotto(self, prodotto):\n",
        "    self.magazzino.append(prodotto)\n",
        "\n",
        "  def visualizzaProdotti(self):\n",
        "    for p in self.magazzino:\n",
        "      print(p)"
      ],
      "metadata": {
        "id": "4wrxMuSNvgw4"
      },
      "execution_count": null,
      "outputs": []
    },
    {
      "cell_type": "markdown",
      "source": [
        "#esercizio studenti"
      ],
      "metadata": {
        "id": "R34aAt63XQA1"
      }
    },
    {
      "cell_type": "code",
      "source": [
        "\"\"\"\n",
        "1.Crea una classe Studente che rappresenti uno studente con attributi come nome, cognome, età e un dizionario per memorizzare i voti ottenuti in diverse materie (ad esempio, matematica, scienze, storia, etc.).\n",
        "2.Implementa metodi per aggiungere voti per una determinata materia, per calcolare la media dei voti dello studente e per visualizzare le informazioni dello studente.\n",
        "3.Crea una classe DatabaseStudenti che gestisca un elenco di studenti.\n",
        "4.Implementa metodi per aggiungere nuovi studenti al database, per aggiungere voti agli studenti esistenti, per calcolare la media dei voti di tutti gli studenti e per visualizzare l'elenco degli studenti e le loro informazioni.\n",
        "\"\"\""
      ],
      "metadata": {
        "id": "iyWPlZuVXhJ9"
      },
      "execution_count": null,
      "outputs": []
    },
    {
      "cell_type": "code",
      "source": [
        "class Studente:\n",
        "  def __init__(self, nome, cognome, eta):\n",
        "    self.nome = nome\n",
        "    self.cognome = cognome\n",
        "    self.__eta = eta\n",
        "    self.voti = {}\n",
        "\n",
        "  def getEta(self):\n",
        "    return self.__eta\n",
        "\n",
        "  def setEta(self, eta):\n",
        "    self.__eta = eta\n",
        "\n",
        "  def aggiungereValutazione(self, materia, voto):\n",
        "    self.voti[materia] = voto\n",
        "\n",
        "  def calcoloMedia(self):\n",
        "    res = 0\n",
        "    for val in self.voti.values():\n",
        "        res += val\n",
        "    return res / len(self.voti)\n",
        "\n",
        "  def visualizzaInfo(self):\n",
        "    return f\"Nome: {self.nome}, Cognome: {self.cognome}, Età: {self.__eta}, Voti: {self.voti}\""
      ],
      "metadata": {
        "id": "LSOnq3F6Xta2"
      },
      "execution_count": 2,
      "outputs": []
    },
    {
      "cell_type": "code",
      "source": [
        "studente1 = Studente('Riccardo', 'Lotorto', 17)"
      ],
      "metadata": {
        "id": "QKBLNJx5aPLK"
      },
      "execution_count": 3,
      "outputs": []
    },
    {
      "cell_type": "code",
      "source": [
        "studente1.getEta()"
      ],
      "metadata": {
        "colab": {
          "base_uri": "https://localhost:8080/"
        },
        "id": "qEir8ldraV2c",
        "outputId": "c37b2d93-b1b4-41da-816d-513aecfdc72f"
      },
      "execution_count": 4,
      "outputs": [
        {
          "output_type": "execute_result",
          "data": {
            "text/plain": [
              "17"
            ]
          },
          "metadata": {},
          "execution_count": 4
        }
      ]
    },
    {
      "cell_type": "code",
      "source": [
        "studente1.aggiungereValutazione('Matematica', 10)"
      ],
      "metadata": {
        "id": "gEdvKe-5aeyP"
      },
      "execution_count": 5,
      "outputs": []
    },
    {
      "cell_type": "code",
      "source": [
        "studente1.voti"
      ],
      "metadata": {
        "colab": {
          "base_uri": "https://localhost:8080/"
        },
        "id": "97SkN-BAajpL",
        "outputId": "187d2eb5-e8e0-40df-b2b6-578202e80162"
      },
      "execution_count": 8,
      "outputs": [
        {
          "output_type": "execute_result",
          "data": {
            "text/plain": [
              "{'Matematica': 10, 'Italiano': 8, 'Storia': 7, 'Inglese': 8.5}"
            ]
          },
          "metadata": {},
          "execution_count": 8
        }
      ]
    },
    {
      "cell_type": "code",
      "source": [
        "studente1.aggiungereValutazione('Italiano', 8)\n",
        "studente1.aggiungereValutazione('Storia', 7)\n",
        "studente1.aggiungereValutazione('Inglese', 8.5)"
      ],
      "metadata": {
        "id": "lTDxIG0zamxt"
      },
      "execution_count": 7,
      "outputs": []
    },
    {
      "cell_type": "code",
      "source": [
        "studente1.calcoloMedia()"
      ],
      "metadata": {
        "colab": {
          "base_uri": "https://localhost:8080/"
        },
        "id": "6lhzIOJdawU6",
        "outputId": "6dfb51ba-38f3-4a86-9a0c-98f75e78876a"
      },
      "execution_count": 9,
      "outputs": [
        {
          "output_type": "execute_result",
          "data": {
            "text/plain": [
              "8.375"
            ]
          },
          "metadata": {},
          "execution_count": 9
        }
      ]
    },
    {
      "cell_type": "code",
      "source": [
        "studente1.visualizzaInfo()"
      ],
      "metadata": {
        "colab": {
          "base_uri": "https://localhost:8080/",
          "height": 36
        },
        "id": "mvrKDJIYa1mW",
        "outputId": "1a80dd10-fce5-46dc-cd32-bc9db36485fa"
      },
      "execution_count": 10,
      "outputs": [
        {
          "output_type": "execute_result",
          "data": {
            "text/plain": [
              "\"Nome: Riccardo, Cognome: Lotorto, Età: 17, Voti: {'Matematica': 10, 'Italiano': 8, 'Storia': 7, 'Inglese': 8.5}\""
            ],
            "application/vnd.google.colaboratory.intrinsic+json": {
              "type": "string"
            }
          },
          "metadata": {},
          "execution_count": 10
        }
      ]
    },
    {
      "cell_type": "code",
      "source": [
        "class DatabaseStudenti:\n",
        "  def __init__(self):\n",
        "    self.elencoStudenti = []\n",
        "\n",
        "  def aggiuntaStudente(self, studente):\n",
        "    self.elencoStudenti.append(studente)\n",
        "\n",
        "  def aggiuntaVotoStudente(self, materia, voto, studente):\n",
        "    studente.voti[materia] = voto\n",
        "\n",
        "  def mediaStudenti(self):\n",
        "    somma_medie = sum(studente.calcoloMedia() for studente in self.elencoStudenti)\n",
        "    return somma_medie / len(self.elencoStudenti)\n",
        "\n",
        "  def visualizzaStudenti(self):\n",
        "    for studente in self.elencoStudenti:\n",
        "      print(studente.nome, studente.cognome, studente.getEta(), studente.voti)"
      ],
      "metadata": {
        "id": "oWmkn6P5a4An"
      },
      "execution_count": 31,
      "outputs": []
    },
    {
      "cell_type": "code",
      "source": [
        "studente2 = Studente('Simone', 'Finessi', 17)"
      ],
      "metadata": {
        "id": "0kKLneSNcEut"
      },
      "execution_count": 12,
      "outputs": []
    },
    {
      "cell_type": "code",
      "source": [
        "studente2.aggiungereValutazione('EdFis', 9)\n",
        "studente2.aggiungereValutazione('Sistemi', 6)\n",
        "studente2.aggiungereValutazione('Storia', 7)\n",
        "studente2.aggiungereValutazione('Informatica', 10)"
      ],
      "metadata": {
        "id": "lIWIaT8VcOd-"
      },
      "execution_count": 13,
      "outputs": []
    },
    {
      "cell_type": "code",
      "source": [
        "Galvani = DatabaseStudenti()"
      ],
      "metadata": {
        "id": "gX53sQFhccA5"
      },
      "execution_count": 32,
      "outputs": []
    },
    {
      "cell_type": "code",
      "source": [
        "Galvani.aggiuntaStudente(studente1)\n",
        "Galvani.aggiuntaStudente(studente2)"
      ],
      "metadata": {
        "id": "8acDGroWcfXf"
      },
      "execution_count": 33,
      "outputs": []
    },
    {
      "cell_type": "code",
      "source": [
        "Galvani.elencoStudenti"
      ],
      "metadata": {
        "colab": {
          "base_uri": "https://localhost:8080/"
        },
        "id": "DHNJTsVjclld",
        "outputId": "f1b55bcb-6beb-4989-a1e3-f7d039dcf035"
      },
      "execution_count": 34,
      "outputs": [
        {
          "output_type": "execute_result",
          "data": {
            "text/plain": [
              "[<__main__.Studente at 0x7b2c6a897f70>, <__main__.Studente at 0x7b2c386693c0>]"
            ]
          },
          "metadata": {},
          "execution_count": 34
        }
      ]
    },
    {
      "cell_type": "code",
      "source": [
        "for studente in Galvani.elencoStudenti:\n",
        "  print(studente.nome, studente.cognome)"
      ],
      "metadata": {
        "colab": {
          "base_uri": "https://localhost:8080/"
        },
        "id": "r6weqdzDc1ZE",
        "outputId": "947a7288-682a-441e-aea2-3285bffe2a75"
      },
      "execution_count": 35,
      "outputs": [
        {
          "output_type": "stream",
          "name": "stdout",
          "text": [
            "Riccardo Lotorto\n",
            "Simone Finessi\n"
          ]
        }
      ]
    },
    {
      "cell_type": "code",
      "source": [
        "Galvani.aggiuntaVotoStudente('tecnologia', 9, studente1)"
      ],
      "metadata": {
        "id": "5w7aUheTdAhq"
      },
      "execution_count": 36,
      "outputs": []
    },
    {
      "cell_type": "code",
      "source": [
        "studente1.voti"
      ],
      "metadata": {
        "colab": {
          "base_uri": "https://localhost:8080/"
        },
        "id": "IEW5EdeAdJzj",
        "outputId": "01f9b294-0542-4255-d75f-6fc7ae7a4376"
      },
      "execution_count": 37,
      "outputs": [
        {
          "output_type": "execute_result",
          "data": {
            "text/plain": [
              "{'Matematica': 10, 'Italiano': 8, 'Storia': 7, 'Inglese': 8.5, 'tecnologia': 9}"
            ]
          },
          "metadata": {},
          "execution_count": 37
        }
      ]
    },
    {
      "cell_type": "code",
      "source": [
        "Galvani.mediaStudenti"
      ],
      "metadata": {
        "colab": {
          "base_uri": "https://localhost:8080/",
          "height": 103
        },
        "id": "HatsOL8GdNsS",
        "outputId": "a81920f6-3a3b-47aa-f3cb-1937948ef4b6"
      },
      "execution_count": 38,
      "outputs": [
        {
          "output_type": "execute_result",
          "data": {
            "text/plain": [
              "<bound method DatabaseStudenti.mediaStudenti of <__main__.DatabaseStudenti object at 0x7b2c38669f60>>"
            ],
            "text/html": [
              "<div style=\"max-width:800px; border: 1px solid var(--colab-border-color);\"><style>\n",
              "      pre.function-repr-contents {\n",
              "        overflow-x: auto;\n",
              "        padding: 8px 12px;\n",
              "        max-height: 500px;\n",
              "      }\n",
              "\n",
              "      pre.function-repr-contents.function-repr-contents-collapsed {\n",
              "        cursor: pointer;\n",
              "        max-height: 100px;\n",
              "      }\n",
              "    </style>\n",
              "    <pre style=\"white-space: initial; background:\n",
              "         var(--colab-secondary-surface-color); padding: 8px 12px;\n",
              "         border-bottom: 1px solid var(--colab-border-color);\"><b>DatabaseStudenti.mediaStudenti</b><br/>def mediaStudenti()</pre><pre class=\"function-repr-contents function-repr-contents-collapsed\" style=\"\"><a class=\"filepath\" style=\"display:none\" href=\"#\">/content/&lt;ipython-input-31-ae8988705d77&gt;</a>&lt;no docstring&gt;</pre></div>"
            ]
          },
          "metadata": {},
          "execution_count": 38
        }
      ]
    },
    {
      "cell_type": "code",
      "source": [
        "Galvani.visualizzaStudenti"
      ],
      "metadata": {
        "colab": {
          "base_uri": "https://localhost:8080/",
          "height": 103
        },
        "id": "mtlp7YMUddO7",
        "outputId": "8e39c745-0b2b-447e-e297-ee6e35cf3e5a"
      },
      "execution_count": 39,
      "outputs": [
        {
          "output_type": "execute_result",
          "data": {
            "text/plain": [
              "<bound method DatabaseStudenti.visualizzaStudenti of <__main__.DatabaseStudenti object at 0x7b2c38669f60>>"
            ],
            "text/html": [
              "<div style=\"max-width:800px; border: 1px solid var(--colab-border-color);\"><style>\n",
              "      pre.function-repr-contents {\n",
              "        overflow-x: auto;\n",
              "        padding: 8px 12px;\n",
              "        max-height: 500px;\n",
              "      }\n",
              "\n",
              "      pre.function-repr-contents.function-repr-contents-collapsed {\n",
              "        cursor: pointer;\n",
              "        max-height: 100px;\n",
              "      }\n",
              "    </style>\n",
              "    <pre style=\"white-space: initial; background:\n",
              "         var(--colab-secondary-surface-color); padding: 8px 12px;\n",
              "         border-bottom: 1px solid var(--colab-border-color);\"><b>DatabaseStudenti.visualizzaStudenti</b><br/>def visualizzaStudenti()</pre><pre class=\"function-repr-contents function-repr-contents-collapsed\" style=\"\"><a class=\"filepath\" style=\"display:none\" href=\"#\">/content/&lt;ipython-input-31-ae8988705d77&gt;</a>&lt;no docstring&gt;</pre></div>"
            ]
          },
          "metadata": {},
          "execution_count": 39
        }
      ]
    },
    {
      "cell_type": "code",
      "source": [
        "class Docente(Studente):\n",
        "  def __init__(self, nome, cognome, eta, materia):\n",
        "    super().__init__(nome, cognome, eta)\n",
        "    self.materia = materia\n",
        "\n",
        "  def aggiuntaVotoStudente(self, studente, voto):\n",
        "    studente[self.materia] = voto"
      ],
      "metadata": {
        "id": "MP2KxkbzdpuR"
      },
      "execution_count": 40,
      "outputs": []
    },
    {
      "cell_type": "code",
      "source": [
        "docente1 = Docente('Riccardo', 'Spadoni', 42, 'Italiano')"
      ],
      "metadata": {
        "id": "mma0Wvg8f01f"
      },
      "execution_count": 41,
      "outputs": []
    },
    {
      "cell_type": "code",
      "source": [
        "docente1.visualizzaInfo()"
      ],
      "metadata": {
        "colab": {
          "base_uri": "https://localhost:8080/",
          "height": 36
        },
        "id": "6gaqlhYbf7jk",
        "outputId": "54e77fce-57aa-4df2-c17f-0aa78ddebe8f"
      },
      "execution_count": 42,
      "outputs": [
        {
          "output_type": "execute_result",
          "data": {
            "text/plain": [
              "'Nome: Riccardo, Cognome: Spadoni, Età: 42, Voti: {}'"
            ],
            "application/vnd.google.colaboratory.intrinsic+json": {
              "type": "string"
            }
          },
          "metadata": {},
          "execution_count": 42
        }
      ]
    },
    {
      "cell_type": "markdown",
      "source": [
        "#esercizio calciatori"
      ],
      "metadata": {
        "id": "6BcyZCYlhIW6"
      }
    },
    {
      "cell_type": "code",
      "source": [
        "\"\"\"\n",
        "1.Crea una classe Giocatore che rappresenti un giocatore di calcio con attributi come nome, cognome, ruolo, numero di maglia e statistiche (ad esempio, gol segnati, assist, ecc.).\n",
        "2.Implementa metodi per aggiornare le statistiche di un giocatore dopo una partita e per visualizzare le statistiche del giocatore.\n",
        "3.Crea una classe Partita che rappresenti una partita di calcio con attributi come avversario, risultato e lista dei giocatori che hanno partecipato.\n",
        "4.Implementa metodi per aggiungere giocatori alla formazione, registrare il risultato della partita e aggiornare le statistiche dei giocatori coinvolti.\n",
        "5.Crea una classe Squadra che gestisca un elenco di giocatori e di partite giocate.\n",
        "6.Implementa metodi per aggiungere nuovi giocatori alla squadra, giocare una nuova partita, visualizzare le statistiche di un giocatore e la classifica della squadra.\n",
        "\"\"\""
      ],
      "metadata": {
        "id": "3cZbStD0hRh8"
      },
      "execution_count": null,
      "outputs": []
    },
    {
      "cell_type": "code",
      "source": [
        "class Giocatore:\n",
        "  def __init__(self, nome, cognome, ruolo, numeroMaglia):\n",
        "    self.nome = nome\n",
        "    self.cognome = cognome\n",
        "    self.ruolo = ruolo\n",
        "    self.numeroMaglia = numeroMaglia\n",
        "    self.statistiche = {}\n",
        "\n",
        "  def aggiungiStatistiche(self, gol, assist):\n",
        "    self.statistiche['Gol'] = gol\n",
        "    self.statistiche['Assist'] = assist"
      ],
      "metadata": {
        "id": "_Y9vsmpphc8E"
      },
      "execution_count": 44,
      "outputs": []
    },
    {
      "cell_type": "code",
      "source": [
        "class Partita:\n",
        "  def __init__(self, avversario, risultato):\n",
        "    self.avversario = avversario\n",
        "    self.risultato = risultato\n",
        "    self.listaGiocatori = []\n",
        "\n",
        "  def aggiuntaGiocatore(self, giocatore):\n",
        "    self.listaGiocatori.append(giocatore)\n",
        "\n",
        "  def aggiornareStatistiche(self, giocatore, gol, assist):\n",
        "    giocatore.statistiche['Gol'] += gol\n",
        "    giocatore.statistiche['Assist'] += assist"
      ],
      "metadata": {
        "id": "Caw4z1wniO7V"
      },
      "execution_count": 81,
      "outputs": []
    },
    {
      "cell_type": "code",
      "source": [
        "class Squadra:\n",
        "  def __init__(self, nome):\n",
        "    self.nome = nome\n",
        "    self.elencoGiocatori = []\n",
        "    self.elencoPartite = []\n",
        "\n",
        "  def aggiuntaGiocatoreSquadra(self, giocatore):\n",
        "    self.elencoGiocatori.append(giocatore)\n",
        "\n",
        "  def nuovaPartita(self, avversario, risultato, partita):\n",
        "    for giocatore in self.elencoGiocatori:\n",
        "        partita.aggiuntaGiocatore(giocatore)\n",
        "    partita.aggiornareStatistiche(giocatore, 1, 1)\n",
        "    self.elencoPartite.append(partita)"
      ],
      "metadata": {
        "id": "J8Pp9FJSjz0B"
      },
      "execution_count": 72,
      "outputs": []
    },
    {
      "cell_type": "code",
      "source": [
        "giocatore1 = Giocatore('Lautaro', 'Martinez', 'Attaccante', 10)\n",
        "giocatore2 = Giocatore('Marcus', 'Thuram', 'Attaccante', 9)\n",
        "giocatore3 = Giocatore('Nicolo', 'Barella', 'Centrocampista', 23)\n",
        "giocatore4 = Giocatore('Alessandro', 'Bastoni', 'Difensore', 95)"
      ],
      "metadata": {
        "id": "wM1TyBmtmmJZ"
      },
      "execution_count": 48,
      "outputs": []
    },
    {
      "cell_type": "code",
      "source": [
        "giocatore1.aggiungiStatistiche(20, 5)\n",
        "giocatore2.aggiungiStatistiche(10, 7)\n",
        "giocatore3.aggiungiStatistiche(2, 10)\n",
        "giocatore4.aggiungiStatistiche(1, 2)"
      ],
      "metadata": {
        "id": "4k6VQVcvmv3A"
      },
      "execution_count": 58,
      "outputs": []
    },
    {
      "cell_type": "code",
      "source": [
        "Inter = Squadra('Internazionale Milano')"
      ],
      "metadata": {
        "id": "pBMkVyO4nY3f"
      },
      "execution_count": 73,
      "outputs": []
    },
    {
      "cell_type": "code",
      "source": [
        "Inter.aggiuntaGiocatoreSquadra(giocatore1)\n",
        "Inter.aggiuntaGiocatoreSquadra(giocatore2)\n",
        "Inter.aggiuntaGiocatoreSquadra(giocatore3)\n",
        "Inter.aggiuntaGiocatoreSquadra(giocatore4)"
      ],
      "metadata": {
        "id": "frWtaYw0ncj6"
      },
      "execution_count": 74,
      "outputs": []
    },
    {
      "cell_type": "code",
      "source": [
        "partita1 = Partita('Milan', 'vittoria')"
      ],
      "metadata": {
        "id": "1n_0z9C5opl9"
      },
      "execution_count": 82,
      "outputs": []
    },
    {
      "cell_type": "code",
      "source": [
        "Inter.nuovaPartita('Milan', 'vittoria', partita1)"
      ],
      "metadata": {
        "id": "fto1v7yqoAS8"
      },
      "execution_count": 83,
      "outputs": []
    },
    {
      "cell_type": "code",
      "source": [
        "Inter.elencoPartite"
      ],
      "metadata": {
        "colab": {
          "base_uri": "https://localhost:8080/"
        },
        "id": "eqAoUkcBoNOv",
        "outputId": "b798678e-ca7c-4f12-83f5-918d799d27ff"
      },
      "execution_count": 77,
      "outputs": [
        {
          "output_type": "execute_result",
          "data": {
            "text/plain": [
              "[<__main__.Partita at 0x7b2c3857d8d0>]"
            ]
          },
          "metadata": {},
          "execution_count": 77
        }
      ]
    },
    {
      "cell_type": "code",
      "source": [
        "for p in Inter.elencoPartite:\n",
        "  print(p.avversario)"
      ],
      "metadata": {
        "colab": {
          "base_uri": "https://localhost:8080/"
        },
        "id": "olbAb2oAoPYn",
        "outputId": "de088eef-80a3-4e3b-ba07-81423afd9acc"
      },
      "execution_count": 78,
      "outputs": [
        {
          "output_type": "stream",
          "name": "stdout",
          "text": [
            "Milan\n"
          ]
        }
      ]
    },
    {
      "cell_type": "code",
      "source": [
        "partita1.listaGiocatori"
      ],
      "metadata": {
        "colab": {
          "base_uri": "https://localhost:8080/"
        },
        "id": "_6BKjcKhppHa",
        "outputId": "2dff2de1-0c85-407c-cbeb-e84027dba5d0"
      },
      "execution_count": 84,
      "outputs": [
        {
          "output_type": "execute_result",
          "data": {
            "text/plain": [
              "[<__main__.Giocatore at 0x7b2c38669720>,\n",
              " <__main__.Giocatore at 0x7b2c386696f0>,\n",
              " <__main__.Giocatore at 0x7b2c3866b340>,\n",
              " <__main__.Giocatore at 0x7b2c386680d0>]"
            ]
          },
          "metadata": {},
          "execution_count": 84
        }
      ]
    },
    {
      "cell_type": "code",
      "source": [
        "giocatore1.statistiche"
      ],
      "metadata": {
        "colab": {
          "base_uri": "https://localhost:8080/"
        },
        "id": "j2XFTWyCp9c5",
        "outputId": "76d633ca-c4f4-4c8e-8e3e-64e15cf8d38b"
      },
      "execution_count": 85,
      "outputs": [
        {
          "output_type": "execute_result",
          "data": {
            "text/plain": [
              "{'Gol': 20, 'Assist': 5}"
            ]
          },
          "metadata": {},
          "execution_count": 85
        }
      ]
    },
    {
      "cell_type": "code",
      "source": [
        "for gioc in partita1.listaGiocatori:\n",
        "  print(gioc.nome, gioc.cognome)"
      ],
      "metadata": {
        "colab": {
          "base_uri": "https://localhost:8080/"
        },
        "id": "boIeXtSiqOl3",
        "outputId": "860ad9b5-0e26-457c-d786-842fa0148201"
      },
      "execution_count": 86,
      "outputs": [
        {
          "output_type": "stream",
          "name": "stdout",
          "text": [
            "Lautaro Martinez\n",
            "Marcus Thuram\n",
            "Nicolo Barella\n",
            "Alessandro Bastoni\n"
          ]
        }
      ]
    },
    {
      "cell_type": "markdown",
      "source": [
        "#esercizio negozio computer"
      ],
      "metadata": {
        "id": "B7R5moFOtrj1"
      }
    },
    {
      "cell_type": "code",
      "source": [
        "class Computer:\n",
        "  def __init__(self, marca, modello, disponibilita):\n",
        "    self.__marca = marca\n",
        "    self.modello = modello\n",
        "    self.disponibilita = disponibilita\n",
        "\n",
        "  def getMarca(self):\n",
        "    return self.__marca\n",
        "\n",
        "  def setMarca(self, marca):\n",
        "    self.__marca = marca\n",
        "\n",
        "  def modificaDisponibilita(self, numeroProdotti):\n",
        "    if self.disponibilita + numeroProdotti > 0:\n",
        "      self.disponibilita += numeroProdotti\n",
        "      return True\n",
        "    else:\n",
        "      return False"
      ],
      "metadata": {
        "id": "gVtEs7pRtxMN"
      },
      "execution_count": 87,
      "outputs": []
    },
    {
      "cell_type": "code",
      "source": [
        "computer1 = Computer('hp', 'pavilion', 10)"
      ],
      "metadata": {
        "id": "6e-kKUK8uVyp"
      },
      "execution_count": 88,
      "outputs": []
    },
    {
      "cell_type": "code",
      "source": [
        "computer1.getMarca()"
      ],
      "metadata": {
        "colab": {
          "base_uri": "https://localhost:8080/",
          "height": 36
        },
        "id": "aE5BrAmsuaN-",
        "outputId": "1418113d-0781-44da-f737-a81330fedf3d"
      },
      "execution_count": 89,
      "outputs": [
        {
          "output_type": "execute_result",
          "data": {
            "text/plain": [
              "'hp'"
            ],
            "application/vnd.google.colaboratory.intrinsic+json": {
              "type": "string"
            }
          },
          "metadata": {},
          "execution_count": 89
        }
      ]
    },
    {
      "cell_type": "code",
      "source": [
        "computer1.modello"
      ],
      "metadata": {
        "colab": {
          "base_uri": "https://localhost:8080/",
          "height": 36
        },
        "id": "qDxj0jSOudGh",
        "outputId": "8672388a-3b2d-47e5-d06f-8cf6cccc0da0"
      },
      "execution_count": 90,
      "outputs": [
        {
          "output_type": "execute_result",
          "data": {
            "text/plain": [
              "'pavilion'"
            ],
            "application/vnd.google.colaboratory.intrinsic+json": {
              "type": "string"
            }
          },
          "metadata": {},
          "execution_count": 90
        }
      ]
    },
    {
      "cell_type": "code",
      "source": [
        "computer1.disponibilita"
      ],
      "metadata": {
        "colab": {
          "base_uri": "https://localhost:8080/"
        },
        "id": "AS4613D5ue7I",
        "outputId": "353a3b79-1a91-4677-ce5d-e4532b29ce04"
      },
      "execution_count": 94,
      "outputs": [
        {
          "output_type": "execute_result",
          "data": {
            "text/plain": [
              "50"
            ]
          },
          "metadata": {},
          "execution_count": 94
        }
      ]
    },
    {
      "cell_type": "code",
      "source": [
        "computer1.modificaDisponibilita(40)"
      ],
      "metadata": {
        "colab": {
          "base_uri": "https://localhost:8080/"
        },
        "id": "v-18TauWui3k",
        "outputId": "75dab580-9ab7-4e1e-9f4b-c8e612d89232"
      },
      "execution_count": 93,
      "outputs": [
        {
          "output_type": "execute_result",
          "data": {
            "text/plain": [
              "True"
            ]
          },
          "metadata": {},
          "execution_count": 93
        }
      ]
    },
    {
      "cell_type": "code",
      "source": [
        "class NegozioElettronica:\n",
        "  def __init__(self, nome):\n",
        "    self.nome = nome\n",
        "    self.elencoComputer = []\n",
        "\n",
        "  def aggiungiComputer(self, computer):\n",
        "    self.elencoComputer.append(computer)\n",
        "    return True\n",
        "\n",
        "  def rimuoviComputer(self, computer):\n",
        "    if computer in self.elencoComputer:\n",
        "      self.elencoComputer.remove(computer)\n",
        "      return True\n",
        "    else:\n",
        "      return False"
      ],
      "metadata": {
        "id": "uTupZTOuuobU"
      },
      "execution_count": 95,
      "outputs": []
    },
    {
      "cell_type": "code",
      "source": [
        "negozio1 = NegozioElettronica('mediaworld')"
      ],
      "metadata": {
        "id": "yn8bMXvFv2hQ"
      },
      "execution_count": 96,
      "outputs": []
    },
    {
      "cell_type": "code",
      "source": [
        "negozio1.aggiungiComputer(computer1)"
      ],
      "metadata": {
        "colab": {
          "base_uri": "https://localhost:8080/"
        },
        "id": "_MFDoMLUv6H4",
        "outputId": "466a0fea-a330-4456-aeb6-2ade4ff4d6cf"
      },
      "execution_count": 97,
      "outputs": [
        {
          "output_type": "execute_result",
          "data": {
            "text/plain": [
              "True"
            ]
          },
          "metadata": {},
          "execution_count": 97
        }
      ]
    },
    {
      "cell_type": "code",
      "source": [
        "computer2 = Computer('acer', '3455', 5)"
      ],
      "metadata": {
        "id": "RjHBYE12v9-n"
      },
      "execution_count": 98,
      "outputs": []
    },
    {
      "cell_type": "code",
      "source": [
        "negozio1.aggiungiComputer(computer2)"
      ],
      "metadata": {
        "colab": {
          "base_uri": "https://localhost:8080/"
        },
        "id": "zRD9CQ4kwDVa",
        "outputId": "807ed8ee-7cbe-4810-c91a-b23433071a89"
      },
      "execution_count": 99,
      "outputs": [
        {
          "output_type": "execute_result",
          "data": {
            "text/plain": [
              "True"
            ]
          },
          "metadata": {},
          "execution_count": 99
        }
      ]
    },
    {
      "cell_type": "code",
      "source": [
        "class Cliente:\n",
        "  def __init__(self, nome, cognome):\n",
        "    self.nome = nome\n",
        "    self.cognome = cognome\n",
        "    self.listaComputer = []\n",
        "\n",
        "  def compraComputer(self, computer):\n",
        "    self.listaComputer.append(computer)\n",
        "    if computer.disponibilita >= 1:\n",
        "      computer.disponibilita -= 1\n",
        "\n",
        "  def visualizzaComputer(self):\n",
        "    for pc in self.listaComputer:\n",
        "      print(pc.getMarca(), pc.modello)"
      ],
      "metadata": {
        "id": "K-YpjbtcwK4l"
      },
      "execution_count": 118,
      "outputs": []
    },
    {
      "cell_type": "code",
      "source": [
        "cliente1 = Cliente('Riccardo', 'Lotorto')"
      ],
      "metadata": {
        "id": "f2D_tXdDw5LV"
      },
      "execution_count": 119,
      "outputs": []
    },
    {
      "cell_type": "code",
      "source": [
        "cliente1.compraComputer(computer1)"
      ],
      "metadata": {
        "id": "27MkHnAYw8rg"
      },
      "execution_count": 124,
      "outputs": []
    },
    {
      "cell_type": "code",
      "source": [
        "cliente1.listaComputer"
      ],
      "metadata": {
        "colab": {
          "base_uri": "https://localhost:8080/"
        },
        "id": "rKNPL-KgxA3U",
        "outputId": "2c27d600-074c-48f1-b504-46b2be3a87a1"
      },
      "execution_count": 125,
      "outputs": [
        {
          "output_type": "execute_result",
          "data": {
            "text/plain": [
              "[<__main__.Computer at 0x7b2c3857f370>, <__main__.Computer at 0x7b2c3857f370>]"
            ]
          },
          "metadata": {},
          "execution_count": 125
        }
      ]
    },
    {
      "cell_type": "code",
      "source": [
        "cliente1.visualizzaComputer()"
      ],
      "metadata": {
        "colab": {
          "base_uri": "https://localhost:8080/"
        },
        "id": "QYNfgGpExEQ8",
        "outputId": "270e974b-e1ac-4102-93ca-02ac3d3349fd"
      },
      "execution_count": 126,
      "outputs": [
        {
          "output_type": "stream",
          "name": "stdout",
          "text": [
            "hp pavilion\n",
            "hp pavilion\n"
          ]
        }
      ]
    },
    {
      "cell_type": "code",
      "source": [
        "computer1.disponibilita"
      ],
      "metadata": {
        "colab": {
          "base_uri": "https://localhost:8080/"
        },
        "id": "jCelpJGzxcN0",
        "outputId": "d12affc9-0543-44bd-f0a1-55d4bcfc511a"
      },
      "execution_count": 127,
      "outputs": [
        {
          "output_type": "execute_result",
          "data": {
            "text/plain": [
              "45"
            ]
          },
          "metadata": {},
          "execution_count": 127
        }
      ]
    }
  ]
}